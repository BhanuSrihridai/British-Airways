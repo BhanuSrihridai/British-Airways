{
 "cells": [
  {
   "cell_type": "code",
   "execution_count": 1,
   "metadata": {},
   "outputs": [],
   "source": [
    "import requests\n",
    "from bs4 import BeautifulSoup\n",
    "import pandas as pd"
   ]
  },
  {
   "cell_type": "code",
   "execution_count": null,
   "metadata": {},
   "outputs": [],
   "source": [
    "base_url=\"https://www.airlinequality.com/airline-reviews/british-airways\"\n",
    "pages=10\n",
    "page_size=100\n",
    "\n",
    "reviews=[]\n",
    "\n",
    "for i in range(1,pages+1):\n",
    "\n",
    "    print(f\"Scraping page {i}\")\n",
    "    \n",
    "    # Creating url from a page to collect data\n",
    "    # url = https://www.airlinequality.com/airline-reviews/british-airways/page/2/?sortby=post_date%3ADesc&pagesize=100\n",
    "\n",
    "    url=f\"{base_url}page/{i}/?sortby=post_date%3ADesc&pagesize={page_size}\"\n",
    "\n",
    "\n"
   ]
  }
 ],
 "metadata": {
  "kernelspec": {
   "display_name": "Python 3",
   "language": "python",
   "name": "python3"
  },
  "language_info": {
   "codemirror_mode": {
    "name": "ipython",
    "version": 3
   },
   "file_extension": ".py",
   "mimetype": "text/x-python",
   "name": "python",
   "nbconvert_exporter": "python",
   "pygments_lexer": "ipython3",
   "version": "3.10.11"
  }
 },
 "nbformat": 4,
 "nbformat_minor": 2
}
