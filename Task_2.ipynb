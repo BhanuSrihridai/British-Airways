{
  "nbformat": 4,
  "nbformat_minor": 0,
  "metadata": {
    "colab": {
      "provenance": [],
      "authorship_tag": "ABX9TyMwwLOSytoG06bkcJI+UnNB",
      "include_colab_link": true
    },
    "kernelspec": {
      "name": "python3",
      "display_name": "Python 3"
    },
    "language_info": {
      "name": "python"
    }
  },
  "cells": [
    {
      "cell_type": "markdown",
      "metadata": {
        "id": "view-in-github",
        "colab_type": "text"
      },
      "source": [
        "<a href=\"https://colab.research.google.com/github/BhanuSrihridai/British-Airways/blob/Development/Task_2.ipynb\" target=\"_parent\"><img src=\"https://colab.research.google.com/assets/colab-badge.svg\" alt=\"Open In Colab\"/></a>"
      ]
    },
    {
      "cell_type": "code",
      "execution_count": 1,
      "metadata": {
        "id": "V1YIGRcWjzua"
      },
      "outputs": [],
      "source": [
        "import pandas as pd\n",
        "import matplotlib.pyplot as plt\n",
        "import seaborn as sns\n"
      ]
    },
    {
      "cell_type": "markdown",
      "source": [
        "- **`num_passengers`** = number of passengers travelling\n",
        "- **`sales_channel`** = sales channel booking was made on\n",
        "- **`trip_type`** = trip Type (Round Trip, One Way, Circle Trip)\n",
        "- **`purchase_lead`** = number of days between travel date and booking date\n",
        "- **`length_of_stay`** = number of days spent at destination\n",
        "- **`flight_hour`** = hour of flight departure\n",
        "- **`flight_day`** = day of week of flight departure\n",
        "- **`route`** = origin -> destination flight route\n",
        "- **`booking_origin`** = country from where booking was made\n",
        "- **`wants_extra_baggage`** = if the customer wanted extra baggage in the booking\n",
        "- **`wants_preferred_seat`** = if the customer wanted a preferred seat in the booking\n",
        "- **`wants_in_flight_meals`** = if the customer wanted in-flight meals in the booking\n",
        "- **`flight_duration`** = total duration of flight (in hours)\n",
        "- **`booking_complete`** = flag indicating if the customer completed the booking"
      ],
      "metadata": {
        "id": "J0MuQ3crni8D"
      }
    },
    {
      "cell_type": "markdown",
      "source": [
        "# **Glimpse of the data**"
      ],
      "metadata": {
        "id": "WU33uc9AaE6y"
      }
    },
    {
      "cell_type": "code",
      "source": [
        "data=pd.read_csv(\"customer_booking.csv\",encoding=\"ISO-8859-1\")\n",
        "data.head()"
      ],
      "metadata": {
        "colab": {
          "base_uri": "https://localhost:8080/",
          "height": 226
        },
        "id": "YfBfUws0kWzi",
        "outputId": "4199e5d9-442e-4708-91a1-e519c20f1d65"
      },
      "execution_count": 2,
      "outputs": [
        {
          "output_type": "execute_result",
          "data": {
            "text/plain": [
              "   num_passengers sales_channel  trip_type  purchase_lead  length_of_stay  \\\n",
              "0               2      Internet  RoundTrip            262              19   \n",
              "1               1      Internet  RoundTrip            112              20   \n",
              "2               2      Internet  RoundTrip            243              22   \n",
              "3               1      Internet  RoundTrip             96              31   \n",
              "4               2      Internet  RoundTrip             68              22   \n",
              "\n",
              "   flight_hour flight_day   route booking_origin  wants_extra_baggage  \\\n",
              "0            7        Sat  AKLDEL    New Zealand                    1   \n",
              "1            3        Sat  AKLDEL    New Zealand                    0   \n",
              "2           17        Wed  AKLDEL          India                    1   \n",
              "3            4        Sat  AKLDEL    New Zealand                    0   \n",
              "4           15        Wed  AKLDEL          India                    1   \n",
              "\n",
              "   wants_preferred_seat  wants_in_flight_meals  flight_duration  \\\n",
              "0                     0                      0             5.52   \n",
              "1                     0                      0             5.52   \n",
              "2                     1                      0             5.52   \n",
              "3                     0                      1             5.52   \n",
              "4                     0                      1             5.52   \n",
              "\n",
              "   booking_complete  \n",
              "0                 0  \n",
              "1                 0  \n",
              "2                 0  \n",
              "3                 0  \n",
              "4                 0  "
            ],
            "text/html": [
              "\n",
              "  <div id=\"df-fb193ebf-334f-429d-9f73-6c64ad976ded\" class=\"colab-df-container\">\n",
              "    <div>\n",
              "<style scoped>\n",
              "    .dataframe tbody tr th:only-of-type {\n",
              "        vertical-align: middle;\n",
              "    }\n",
              "\n",
              "    .dataframe tbody tr th {\n",
              "        vertical-align: top;\n",
              "    }\n",
              "\n",
              "    .dataframe thead th {\n",
              "        text-align: right;\n",
              "    }\n",
              "</style>\n",
              "<table border=\"1\" class=\"dataframe\">\n",
              "  <thead>\n",
              "    <tr style=\"text-align: right;\">\n",
              "      <th></th>\n",
              "      <th>num_passengers</th>\n",
              "      <th>sales_channel</th>\n",
              "      <th>trip_type</th>\n",
              "      <th>purchase_lead</th>\n",
              "      <th>length_of_stay</th>\n",
              "      <th>flight_hour</th>\n",
              "      <th>flight_day</th>\n",
              "      <th>route</th>\n",
              "      <th>booking_origin</th>\n",
              "      <th>wants_extra_baggage</th>\n",
              "      <th>wants_preferred_seat</th>\n",
              "      <th>wants_in_flight_meals</th>\n",
              "      <th>flight_duration</th>\n",
              "      <th>booking_complete</th>\n",
              "    </tr>\n",
              "  </thead>\n",
              "  <tbody>\n",
              "    <tr>\n",
              "      <th>0</th>\n",
              "      <td>2</td>\n",
              "      <td>Internet</td>\n",
              "      <td>RoundTrip</td>\n",
              "      <td>262</td>\n",
              "      <td>19</td>\n",
              "      <td>7</td>\n",
              "      <td>Sat</td>\n",
              "      <td>AKLDEL</td>\n",
              "      <td>New Zealand</td>\n",
              "      <td>1</td>\n",
              "      <td>0</td>\n",
              "      <td>0</td>\n",
              "      <td>5.52</td>\n",
              "      <td>0</td>\n",
              "    </tr>\n",
              "    <tr>\n",
              "      <th>1</th>\n",
              "      <td>1</td>\n",
              "      <td>Internet</td>\n",
              "      <td>RoundTrip</td>\n",
              "      <td>112</td>\n",
              "      <td>20</td>\n",
              "      <td>3</td>\n",
              "      <td>Sat</td>\n",
              "      <td>AKLDEL</td>\n",
              "      <td>New Zealand</td>\n",
              "      <td>0</td>\n",
              "      <td>0</td>\n",
              "      <td>0</td>\n",
              "      <td>5.52</td>\n",
              "      <td>0</td>\n",
              "    </tr>\n",
              "    <tr>\n",
              "      <th>2</th>\n",
              "      <td>2</td>\n",
              "      <td>Internet</td>\n",
              "      <td>RoundTrip</td>\n",
              "      <td>243</td>\n",
              "      <td>22</td>\n",
              "      <td>17</td>\n",
              "      <td>Wed</td>\n",
              "      <td>AKLDEL</td>\n",
              "      <td>India</td>\n",
              "      <td>1</td>\n",
              "      <td>1</td>\n",
              "      <td>0</td>\n",
              "      <td>5.52</td>\n",
              "      <td>0</td>\n",
              "    </tr>\n",
              "    <tr>\n",
              "      <th>3</th>\n",
              "      <td>1</td>\n",
              "      <td>Internet</td>\n",
              "      <td>RoundTrip</td>\n",
              "      <td>96</td>\n",
              "      <td>31</td>\n",
              "      <td>4</td>\n",
              "      <td>Sat</td>\n",
              "      <td>AKLDEL</td>\n",
              "      <td>New Zealand</td>\n",
              "      <td>0</td>\n",
              "      <td>0</td>\n",
              "      <td>1</td>\n",
              "      <td>5.52</td>\n",
              "      <td>0</td>\n",
              "    </tr>\n",
              "    <tr>\n",
              "      <th>4</th>\n",
              "      <td>2</td>\n",
              "      <td>Internet</td>\n",
              "      <td>RoundTrip</td>\n",
              "      <td>68</td>\n",
              "      <td>22</td>\n",
              "      <td>15</td>\n",
              "      <td>Wed</td>\n",
              "      <td>AKLDEL</td>\n",
              "      <td>India</td>\n",
              "      <td>1</td>\n",
              "      <td>0</td>\n",
              "      <td>1</td>\n",
              "      <td>5.52</td>\n",
              "      <td>0</td>\n",
              "    </tr>\n",
              "  </tbody>\n",
              "</table>\n",
              "</div>\n",
              "    <div class=\"colab-df-buttons\">\n",
              "\n",
              "  <div class=\"colab-df-container\">\n",
              "    <button class=\"colab-df-convert\" onclick=\"convertToInteractive('df-fb193ebf-334f-429d-9f73-6c64ad976ded')\"\n",
              "            title=\"Convert this dataframe to an interactive table.\"\n",
              "            style=\"display:none;\">\n",
              "\n",
              "  <svg xmlns=\"http://www.w3.org/2000/svg\" height=\"24px\" viewBox=\"0 -960 960 960\">\n",
              "    <path d=\"M120-120v-720h720v720H120Zm60-500h600v-160H180v160Zm220 220h160v-160H400v160Zm0 220h160v-160H400v160ZM180-400h160v-160H180v160Zm440 0h160v-160H620v160ZM180-180h160v-160H180v160Zm440 0h160v-160H620v160Z\"/>\n",
              "  </svg>\n",
              "    </button>\n",
              "\n",
              "  <style>\n",
              "    .colab-df-container {\n",
              "      display:flex;\n",
              "      gap: 12px;\n",
              "    }\n",
              "\n",
              "    .colab-df-convert {\n",
              "      background-color: #E8F0FE;\n",
              "      border: none;\n",
              "      border-radius: 50%;\n",
              "      cursor: pointer;\n",
              "      display: none;\n",
              "      fill: #1967D2;\n",
              "      height: 32px;\n",
              "      padding: 0 0 0 0;\n",
              "      width: 32px;\n",
              "    }\n",
              "\n",
              "    .colab-df-convert:hover {\n",
              "      background-color: #E2EBFA;\n",
              "      box-shadow: 0px 1px 2px rgba(60, 64, 67, 0.3), 0px 1px 3px 1px rgba(60, 64, 67, 0.15);\n",
              "      fill: #174EA6;\n",
              "    }\n",
              "\n",
              "    .colab-df-buttons div {\n",
              "      margin-bottom: 4px;\n",
              "    }\n",
              "\n",
              "    [theme=dark] .colab-df-convert {\n",
              "      background-color: #3B4455;\n",
              "      fill: #D2E3FC;\n",
              "    }\n",
              "\n",
              "    [theme=dark] .colab-df-convert:hover {\n",
              "      background-color: #434B5C;\n",
              "      box-shadow: 0px 1px 3px 1px rgba(0, 0, 0, 0.15);\n",
              "      filter: drop-shadow(0px 1px 2px rgba(0, 0, 0, 0.3));\n",
              "      fill: #FFFFFF;\n",
              "    }\n",
              "  </style>\n",
              "\n",
              "    <script>\n",
              "      const buttonEl =\n",
              "        document.querySelector('#df-fb193ebf-334f-429d-9f73-6c64ad976ded button.colab-df-convert');\n",
              "      buttonEl.style.display =\n",
              "        google.colab.kernel.accessAllowed ? 'block' : 'none';\n",
              "\n",
              "      async function convertToInteractive(key) {\n",
              "        const element = document.querySelector('#df-fb193ebf-334f-429d-9f73-6c64ad976ded');\n",
              "        const dataTable =\n",
              "          await google.colab.kernel.invokeFunction('convertToInteractive',\n",
              "                                                    [key], {});\n",
              "        if (!dataTable) return;\n",
              "\n",
              "        const docLinkHtml = 'Like what you see? Visit the ' +\n",
              "          '<a target=\"_blank\" href=https://colab.research.google.com/notebooks/data_table.ipynb>data table notebook</a>'\n",
              "          + ' to learn more about interactive tables.';\n",
              "        element.innerHTML = '';\n",
              "        dataTable['output_type'] = 'display_data';\n",
              "        await google.colab.output.renderOutput(dataTable, element);\n",
              "        const docLink = document.createElement('div');\n",
              "        docLink.innerHTML = docLinkHtml;\n",
              "        element.appendChild(docLink);\n",
              "      }\n",
              "    </script>\n",
              "  </div>\n",
              "\n",
              "\n",
              "<div id=\"df-0b6e6936-a82d-42d1-915c-3a04993de95f\">\n",
              "  <button class=\"colab-df-quickchart\" onclick=\"quickchart('df-0b6e6936-a82d-42d1-915c-3a04993de95f')\"\n",
              "            title=\"Suggest charts\"\n",
              "            style=\"display:none;\">\n",
              "\n",
              "<svg xmlns=\"http://www.w3.org/2000/svg\" height=\"24px\"viewBox=\"0 0 24 24\"\n",
              "     width=\"24px\">\n",
              "    <g>\n",
              "        <path d=\"M19 3H5c-1.1 0-2 .9-2 2v14c0 1.1.9 2 2 2h14c1.1 0 2-.9 2-2V5c0-1.1-.9-2-2-2zM9 17H7v-7h2v7zm4 0h-2V7h2v10zm4 0h-2v-4h2v4z\"/>\n",
              "    </g>\n",
              "</svg>\n",
              "  </button>\n",
              "\n",
              "<style>\n",
              "  .colab-df-quickchart {\n",
              "      --bg-color: #E8F0FE;\n",
              "      --fill-color: #1967D2;\n",
              "      --hover-bg-color: #E2EBFA;\n",
              "      --hover-fill-color: #174EA6;\n",
              "      --disabled-fill-color: #AAA;\n",
              "      --disabled-bg-color: #DDD;\n",
              "  }\n",
              "\n",
              "  [theme=dark] .colab-df-quickchart {\n",
              "      --bg-color: #3B4455;\n",
              "      --fill-color: #D2E3FC;\n",
              "      --hover-bg-color: #434B5C;\n",
              "      --hover-fill-color: #FFFFFF;\n",
              "      --disabled-bg-color: #3B4455;\n",
              "      --disabled-fill-color: #666;\n",
              "  }\n",
              "\n",
              "  .colab-df-quickchart {\n",
              "    background-color: var(--bg-color);\n",
              "    border: none;\n",
              "    border-radius: 50%;\n",
              "    cursor: pointer;\n",
              "    display: none;\n",
              "    fill: var(--fill-color);\n",
              "    height: 32px;\n",
              "    padding: 0;\n",
              "    width: 32px;\n",
              "  }\n",
              "\n",
              "  .colab-df-quickchart:hover {\n",
              "    background-color: var(--hover-bg-color);\n",
              "    box-shadow: 0 1px 2px rgba(60, 64, 67, 0.3), 0 1px 3px 1px rgba(60, 64, 67, 0.15);\n",
              "    fill: var(--button-hover-fill-color);\n",
              "  }\n",
              "\n",
              "  .colab-df-quickchart-complete:disabled,\n",
              "  .colab-df-quickchart-complete:disabled:hover {\n",
              "    background-color: var(--disabled-bg-color);\n",
              "    fill: var(--disabled-fill-color);\n",
              "    box-shadow: none;\n",
              "  }\n",
              "\n",
              "  .colab-df-spinner {\n",
              "    border: 2px solid var(--fill-color);\n",
              "    border-color: transparent;\n",
              "    border-bottom-color: var(--fill-color);\n",
              "    animation:\n",
              "      spin 1s steps(1) infinite;\n",
              "  }\n",
              "\n",
              "  @keyframes spin {\n",
              "    0% {\n",
              "      border-color: transparent;\n",
              "      border-bottom-color: var(--fill-color);\n",
              "      border-left-color: var(--fill-color);\n",
              "    }\n",
              "    20% {\n",
              "      border-color: transparent;\n",
              "      border-left-color: var(--fill-color);\n",
              "      border-top-color: var(--fill-color);\n",
              "    }\n",
              "    30% {\n",
              "      border-color: transparent;\n",
              "      border-left-color: var(--fill-color);\n",
              "      border-top-color: var(--fill-color);\n",
              "      border-right-color: var(--fill-color);\n",
              "    }\n",
              "    40% {\n",
              "      border-color: transparent;\n",
              "      border-right-color: var(--fill-color);\n",
              "      border-top-color: var(--fill-color);\n",
              "    }\n",
              "    60% {\n",
              "      border-color: transparent;\n",
              "      border-right-color: var(--fill-color);\n",
              "    }\n",
              "    80% {\n",
              "      border-color: transparent;\n",
              "      border-right-color: var(--fill-color);\n",
              "      border-bottom-color: var(--fill-color);\n",
              "    }\n",
              "    90% {\n",
              "      border-color: transparent;\n",
              "      border-bottom-color: var(--fill-color);\n",
              "    }\n",
              "  }\n",
              "</style>\n",
              "\n",
              "  <script>\n",
              "    async function quickchart(key) {\n",
              "      const quickchartButtonEl =\n",
              "        document.querySelector('#' + key + ' button');\n",
              "      quickchartButtonEl.disabled = true;  // To prevent multiple clicks.\n",
              "      quickchartButtonEl.classList.add('colab-df-spinner');\n",
              "      try {\n",
              "        const charts = await google.colab.kernel.invokeFunction(\n",
              "            'suggestCharts', [key], {});\n",
              "      } catch (error) {\n",
              "        console.error('Error during call to suggestCharts:', error);\n",
              "      }\n",
              "      quickchartButtonEl.classList.remove('colab-df-spinner');\n",
              "      quickchartButtonEl.classList.add('colab-df-quickchart-complete');\n",
              "    }\n",
              "    (() => {\n",
              "      let quickchartButtonEl =\n",
              "        document.querySelector('#df-0b6e6936-a82d-42d1-915c-3a04993de95f button');\n",
              "      quickchartButtonEl.style.display =\n",
              "        google.colab.kernel.accessAllowed ? 'block' : 'none';\n",
              "    })();\n",
              "  </script>\n",
              "</div>\n",
              "    </div>\n",
              "  </div>\n"
            ]
          },
          "metadata": {},
          "execution_count": 2
        }
      ]
    },
    {
      "cell_type": "code",
      "source": [
        "data.info()"
      ],
      "metadata": {
        "colab": {
          "base_uri": "https://localhost:8080/"
        },
        "id": "Ds_7O4S_k00W",
        "outputId": "3ef4b08d-120c-4ae3-eeda-713ed49291c4"
      },
      "execution_count": 3,
      "outputs": [
        {
          "output_type": "stream",
          "name": "stdout",
          "text": [
            "<class 'pandas.core.frame.DataFrame'>\n",
            "RangeIndex: 50000 entries, 0 to 49999\n",
            "Data columns (total 14 columns):\n",
            " #   Column                 Non-Null Count  Dtype  \n",
            "---  ------                 --------------  -----  \n",
            " 0   num_passengers         50000 non-null  int64  \n",
            " 1   sales_channel          50000 non-null  object \n",
            " 2   trip_type              50000 non-null  object \n",
            " 3   purchase_lead          50000 non-null  int64  \n",
            " 4   length_of_stay         50000 non-null  int64  \n",
            " 5   flight_hour            50000 non-null  int64  \n",
            " 6   flight_day             50000 non-null  object \n",
            " 7   route                  50000 non-null  object \n",
            " 8   booking_origin         50000 non-null  object \n",
            " 9   wants_extra_baggage    50000 non-null  int64  \n",
            " 10  wants_preferred_seat   50000 non-null  int64  \n",
            " 11  wants_in_flight_meals  50000 non-null  int64  \n",
            " 12  flight_duration        50000 non-null  float64\n",
            " 13  booking_complete       50000 non-null  int64  \n",
            "dtypes: float64(1), int64(8), object(5)\n",
            "memory usage: 5.3+ MB\n"
          ]
        }
      ]
    },
    {
      "cell_type": "code",
      "source": [
        "data.shape"
      ],
      "metadata": {
        "colab": {
          "base_uri": "https://localhost:8080/"
        },
        "id": "2ISoiOdOlVMj",
        "outputId": "5978a8fb-2af8-40cc-f7a6-4da5de23be85"
      },
      "execution_count": 4,
      "outputs": [
        {
          "output_type": "execute_result",
          "data": {
            "text/plain": [
              "(50000, 14)"
            ]
          },
          "metadata": {},
          "execution_count": 4
        }
      ]
    },
    {
      "cell_type": "code",
      "source": [
        "data.head().style.bar(cmap='hsv',height=80,width=90)"
      ],
      "metadata": {
        "colab": {
          "base_uri": "https://localhost:8080/",
          "height": 262
        },
        "id": "FEOwseTZlaV3",
        "outputId": "e0ca8940-48b1-4bbe-ff1d-e16735e3af68"
      },
      "execution_count": 5,
      "outputs": [
        {
          "output_type": "stream",
          "name": "stderr",
          "text": [
            "/usr/local/lib/python3.10/dist-packages/pandas/io/formats/style.py:4165: RuntimeWarning: invalid value encountered in long_scalars\n",
            "  end = (x - left) / (right - left)\n"
          ]
        },
        {
          "output_type": "execute_result",
          "data": {
            "text/plain": [
              "<pandas.io.formats.style.Styler at 0x7fab7ba9c310>"
            ],
            "text/html": [
              "<style type=\"text/css\">\n",
              "#T_33aba_row0_col0, #T_33aba_row0_col3, #T_33aba_row0_col9, #T_33aba_row0_col12, #T_33aba_row1_col12, #T_33aba_row2_col0, #T_33aba_row2_col5, #T_33aba_row2_col9, #T_33aba_row2_col10, #T_33aba_row2_col12, #T_33aba_row3_col4, #T_33aba_row3_col11, #T_33aba_row3_col12, #T_33aba_row4_col0, #T_33aba_row4_col9, #T_33aba_row4_col11, #T_33aba_row4_col12 {\n",
              "  width: 10em;\n",
              "  background: linear-gradient(90deg, #ff0018 90.0%, transparent 90.0%) no-repeat center;\n",
              "  background-size: 100% 80.0%;\n",
              "}\n",
              "#T_33aba_row0_col4 {\n",
              "  width: 10em;\n",
              "  background: linear-gradient(90deg, #0063ff 55.2%, transparent 55.2%) no-repeat center;\n",
              "  background-size: 100% 80.0%;\n",
              "}\n",
              "#T_33aba_row0_col5 {\n",
              "  width: 10em;\n",
              "  background: linear-gradient(90deg, #00ff6e 37.1%, transparent 37.1%) no-repeat center;\n",
              "  background-size: 100% 80.0%;\n",
              "}\n",
              "#T_33aba_row0_col10, #T_33aba_row0_col11, #T_33aba_row0_col13, #T_33aba_row1_col9, #T_33aba_row1_col10, #T_33aba_row1_col11, #T_33aba_row1_col13, #T_33aba_row2_col11, #T_33aba_row2_col13, #T_33aba_row3_col9, #T_33aba_row3_col10, #T_33aba_row3_col13, #T_33aba_row4_col10, #T_33aba_row4_col13 {\n",
              "  width: 10em;\n",
              "}\n",
              "#T_33aba_row1_col0, #T_33aba_row3_col0 {\n",
              "  width: 10em;\n",
              "  background: linear-gradient(90deg, #00fff6 45.0%, transparent 45.0%) no-repeat center;\n",
              "  background-size: 100% 80.0%;\n",
              "}\n",
              "#T_33aba_row1_col3 {\n",
              "  width: 10em;\n",
              "  background: linear-gradient(90deg, #00ff86 38.5%, transparent 38.5%) no-repeat center;\n",
              "  background-size: 100% 80.0%;\n",
              "}\n",
              "#T_33aba_row1_col4 {\n",
              "  width: 10em;\n",
              "  background: linear-gradient(90deg, #002dff 58.1%, transparent 58.1%) no-repeat center;\n",
              "  background-size: 100% 80.0%;\n",
              "}\n",
              "#T_33aba_row1_col5 {\n",
              "  width: 10em;\n",
              "  background: linear-gradient(90deg, #f4ff00 15.9%, transparent 15.9%) no-repeat center;\n",
              "  background-size: 100% 80.0%;\n",
              "}\n",
              "#T_33aba_row2_col3 {\n",
              "  width: 10em;\n",
              "  background: linear-gradient(90deg, #ff0082 83.5%, transparent 83.5%) no-repeat center;\n",
              "  background-size: 100% 80.0%;\n",
              "}\n",
              "#T_33aba_row2_col4, #T_33aba_row4_col4 {\n",
              "  width: 10em;\n",
              "  background: linear-gradient(90deg, #3100ff 63.9%, transparent 63.9%) no-repeat center;\n",
              "  background-size: 100% 80.0%;\n",
              "}\n",
              "#T_33aba_row3_col3 {\n",
              "  width: 10em;\n",
              "  background: linear-gradient(90deg, #00ff27 33.0%, transparent 33.0%) no-repeat center;\n",
              "  background-size: 100% 80.0%;\n",
              "}\n",
              "#T_33aba_row3_col5 {\n",
              "  width: 10em;\n",
              "  background: linear-gradient(90deg, #9cff00 21.2%, transparent 21.2%) no-repeat center;\n",
              "  background-size: 100% 80.0%;\n",
              "}\n",
              "#T_33aba_row4_col3 {\n",
              "  width: 10em;\n",
              "  background: linear-gradient(90deg, #78ff00 23.4%, transparent 23.4%) no-repeat center;\n",
              "  background-size: 100% 80.0%;\n",
              "}\n",
              "#T_33aba_row4_col5 {\n",
              "  width: 10em;\n",
              "  background: linear-gradient(90deg, #ff00c9 79.4%, transparent 79.4%) no-repeat center;\n",
              "  background-size: 100% 80.0%;\n",
              "}\n",
              "</style>\n",
              "<table id=\"T_33aba\" class=\"dataframe\">\n",
              "  <thead>\n",
              "    <tr>\n",
              "      <th class=\"blank level0\" >&nbsp;</th>\n",
              "      <th id=\"T_33aba_level0_col0\" class=\"col_heading level0 col0\" >num_passengers</th>\n",
              "      <th id=\"T_33aba_level0_col1\" class=\"col_heading level0 col1\" >sales_channel</th>\n",
              "      <th id=\"T_33aba_level0_col2\" class=\"col_heading level0 col2\" >trip_type</th>\n",
              "      <th id=\"T_33aba_level0_col3\" class=\"col_heading level0 col3\" >purchase_lead</th>\n",
              "      <th id=\"T_33aba_level0_col4\" class=\"col_heading level0 col4\" >length_of_stay</th>\n",
              "      <th id=\"T_33aba_level0_col5\" class=\"col_heading level0 col5\" >flight_hour</th>\n",
              "      <th id=\"T_33aba_level0_col6\" class=\"col_heading level0 col6\" >flight_day</th>\n",
              "      <th id=\"T_33aba_level0_col7\" class=\"col_heading level0 col7\" >route</th>\n",
              "      <th id=\"T_33aba_level0_col8\" class=\"col_heading level0 col8\" >booking_origin</th>\n",
              "      <th id=\"T_33aba_level0_col9\" class=\"col_heading level0 col9\" >wants_extra_baggage</th>\n",
              "      <th id=\"T_33aba_level0_col10\" class=\"col_heading level0 col10\" >wants_preferred_seat</th>\n",
              "      <th id=\"T_33aba_level0_col11\" class=\"col_heading level0 col11\" >wants_in_flight_meals</th>\n",
              "      <th id=\"T_33aba_level0_col12\" class=\"col_heading level0 col12\" >flight_duration</th>\n",
              "      <th id=\"T_33aba_level0_col13\" class=\"col_heading level0 col13\" >booking_complete</th>\n",
              "    </tr>\n",
              "  </thead>\n",
              "  <tbody>\n",
              "    <tr>\n",
              "      <th id=\"T_33aba_level0_row0\" class=\"row_heading level0 row0\" >0</th>\n",
              "      <td id=\"T_33aba_row0_col0\" class=\"data row0 col0\" >2</td>\n",
              "      <td id=\"T_33aba_row0_col1\" class=\"data row0 col1\" >Internet</td>\n",
              "      <td id=\"T_33aba_row0_col2\" class=\"data row0 col2\" >RoundTrip</td>\n",
              "      <td id=\"T_33aba_row0_col3\" class=\"data row0 col3\" >262</td>\n",
              "      <td id=\"T_33aba_row0_col4\" class=\"data row0 col4\" >19</td>\n",
              "      <td id=\"T_33aba_row0_col5\" class=\"data row0 col5\" >7</td>\n",
              "      <td id=\"T_33aba_row0_col6\" class=\"data row0 col6\" >Sat</td>\n",
              "      <td id=\"T_33aba_row0_col7\" class=\"data row0 col7\" >AKLDEL</td>\n",
              "      <td id=\"T_33aba_row0_col8\" class=\"data row0 col8\" >New Zealand</td>\n",
              "      <td id=\"T_33aba_row0_col9\" class=\"data row0 col9\" >1</td>\n",
              "      <td id=\"T_33aba_row0_col10\" class=\"data row0 col10\" >0</td>\n",
              "      <td id=\"T_33aba_row0_col11\" class=\"data row0 col11\" >0</td>\n",
              "      <td id=\"T_33aba_row0_col12\" class=\"data row0 col12\" >5.520000</td>\n",
              "      <td id=\"T_33aba_row0_col13\" class=\"data row0 col13\" >0</td>\n",
              "    </tr>\n",
              "    <tr>\n",
              "      <th id=\"T_33aba_level0_row1\" class=\"row_heading level0 row1\" >1</th>\n",
              "      <td id=\"T_33aba_row1_col0\" class=\"data row1 col0\" >1</td>\n",
              "      <td id=\"T_33aba_row1_col1\" class=\"data row1 col1\" >Internet</td>\n",
              "      <td id=\"T_33aba_row1_col2\" class=\"data row1 col2\" >RoundTrip</td>\n",
              "      <td id=\"T_33aba_row1_col3\" class=\"data row1 col3\" >112</td>\n",
              "      <td id=\"T_33aba_row1_col4\" class=\"data row1 col4\" >20</td>\n",
              "      <td id=\"T_33aba_row1_col5\" class=\"data row1 col5\" >3</td>\n",
              "      <td id=\"T_33aba_row1_col6\" class=\"data row1 col6\" >Sat</td>\n",
              "      <td id=\"T_33aba_row1_col7\" class=\"data row1 col7\" >AKLDEL</td>\n",
              "      <td id=\"T_33aba_row1_col8\" class=\"data row1 col8\" >New Zealand</td>\n",
              "      <td id=\"T_33aba_row1_col9\" class=\"data row1 col9\" >0</td>\n",
              "      <td id=\"T_33aba_row1_col10\" class=\"data row1 col10\" >0</td>\n",
              "      <td id=\"T_33aba_row1_col11\" class=\"data row1 col11\" >0</td>\n",
              "      <td id=\"T_33aba_row1_col12\" class=\"data row1 col12\" >5.520000</td>\n",
              "      <td id=\"T_33aba_row1_col13\" class=\"data row1 col13\" >0</td>\n",
              "    </tr>\n",
              "    <tr>\n",
              "      <th id=\"T_33aba_level0_row2\" class=\"row_heading level0 row2\" >2</th>\n",
              "      <td id=\"T_33aba_row2_col0\" class=\"data row2 col0\" >2</td>\n",
              "      <td id=\"T_33aba_row2_col1\" class=\"data row2 col1\" >Internet</td>\n",
              "      <td id=\"T_33aba_row2_col2\" class=\"data row2 col2\" >RoundTrip</td>\n",
              "      <td id=\"T_33aba_row2_col3\" class=\"data row2 col3\" >243</td>\n",
              "      <td id=\"T_33aba_row2_col4\" class=\"data row2 col4\" >22</td>\n",
              "      <td id=\"T_33aba_row2_col5\" class=\"data row2 col5\" >17</td>\n",
              "      <td id=\"T_33aba_row2_col6\" class=\"data row2 col6\" >Wed</td>\n",
              "      <td id=\"T_33aba_row2_col7\" class=\"data row2 col7\" >AKLDEL</td>\n",
              "      <td id=\"T_33aba_row2_col8\" class=\"data row2 col8\" >India</td>\n",
              "      <td id=\"T_33aba_row2_col9\" class=\"data row2 col9\" >1</td>\n",
              "      <td id=\"T_33aba_row2_col10\" class=\"data row2 col10\" >1</td>\n",
              "      <td id=\"T_33aba_row2_col11\" class=\"data row2 col11\" >0</td>\n",
              "      <td id=\"T_33aba_row2_col12\" class=\"data row2 col12\" >5.520000</td>\n",
              "      <td id=\"T_33aba_row2_col13\" class=\"data row2 col13\" >0</td>\n",
              "    </tr>\n",
              "    <tr>\n",
              "      <th id=\"T_33aba_level0_row3\" class=\"row_heading level0 row3\" >3</th>\n",
              "      <td id=\"T_33aba_row3_col0\" class=\"data row3 col0\" >1</td>\n",
              "      <td id=\"T_33aba_row3_col1\" class=\"data row3 col1\" >Internet</td>\n",
              "      <td id=\"T_33aba_row3_col2\" class=\"data row3 col2\" >RoundTrip</td>\n",
              "      <td id=\"T_33aba_row3_col3\" class=\"data row3 col3\" >96</td>\n",
              "      <td id=\"T_33aba_row3_col4\" class=\"data row3 col4\" >31</td>\n",
              "      <td id=\"T_33aba_row3_col5\" class=\"data row3 col5\" >4</td>\n",
              "      <td id=\"T_33aba_row3_col6\" class=\"data row3 col6\" >Sat</td>\n",
              "      <td id=\"T_33aba_row3_col7\" class=\"data row3 col7\" >AKLDEL</td>\n",
              "      <td id=\"T_33aba_row3_col8\" class=\"data row3 col8\" >New Zealand</td>\n",
              "      <td id=\"T_33aba_row3_col9\" class=\"data row3 col9\" >0</td>\n",
              "      <td id=\"T_33aba_row3_col10\" class=\"data row3 col10\" >0</td>\n",
              "      <td id=\"T_33aba_row3_col11\" class=\"data row3 col11\" >1</td>\n",
              "      <td id=\"T_33aba_row3_col12\" class=\"data row3 col12\" >5.520000</td>\n",
              "      <td id=\"T_33aba_row3_col13\" class=\"data row3 col13\" >0</td>\n",
              "    </tr>\n",
              "    <tr>\n",
              "      <th id=\"T_33aba_level0_row4\" class=\"row_heading level0 row4\" >4</th>\n",
              "      <td id=\"T_33aba_row4_col0\" class=\"data row4 col0\" >2</td>\n",
              "      <td id=\"T_33aba_row4_col1\" class=\"data row4 col1\" >Internet</td>\n",
              "      <td id=\"T_33aba_row4_col2\" class=\"data row4 col2\" >RoundTrip</td>\n",
              "      <td id=\"T_33aba_row4_col3\" class=\"data row4 col3\" >68</td>\n",
              "      <td id=\"T_33aba_row4_col4\" class=\"data row4 col4\" >22</td>\n",
              "      <td id=\"T_33aba_row4_col5\" class=\"data row4 col5\" >15</td>\n",
              "      <td id=\"T_33aba_row4_col6\" class=\"data row4 col6\" >Wed</td>\n",
              "      <td id=\"T_33aba_row4_col7\" class=\"data row4 col7\" >AKLDEL</td>\n",
              "      <td id=\"T_33aba_row4_col8\" class=\"data row4 col8\" >India</td>\n",
              "      <td id=\"T_33aba_row4_col9\" class=\"data row4 col9\" >1</td>\n",
              "      <td id=\"T_33aba_row4_col10\" class=\"data row4 col10\" >0</td>\n",
              "      <td id=\"T_33aba_row4_col11\" class=\"data row4 col11\" >1</td>\n",
              "      <td id=\"T_33aba_row4_col12\" class=\"data row4 col12\" >5.520000</td>\n",
              "      <td id=\"T_33aba_row4_col13\" class=\"data row4 col13\" >0</td>\n",
              "    </tr>\n",
              "  </tbody>\n",
              "</table>\n"
            ]
          },
          "metadata": {},
          "execution_count": 5
        }
      ]
    },
    {
      "cell_type": "code",
      "source": [
        "data.describe()"
      ],
      "metadata": {
        "colab": {
          "base_uri": "https://localhost:8080/",
          "height": 300
        },
        "id": "Y999NSXPm8TV",
        "outputId": "8c94df98-f4cf-418e-9186-1da42db2cc8a"
      },
      "execution_count": 6,
      "outputs": [
        {
          "output_type": "execute_result",
          "data": {
            "text/plain": [
              "       num_passengers  purchase_lead  length_of_stay  flight_hour  \\\n",
              "count    50000.000000   50000.000000     50000.00000  50000.00000   \n",
              "mean         1.591240      84.940480        23.04456      9.06634   \n",
              "std          1.020165      90.451378        33.88767      5.41266   \n",
              "min          1.000000       0.000000         0.00000      0.00000   \n",
              "25%          1.000000      21.000000         5.00000      5.00000   \n",
              "50%          1.000000      51.000000        17.00000      9.00000   \n",
              "75%          2.000000     115.000000        28.00000     13.00000   \n",
              "max          9.000000     867.000000       778.00000     23.00000   \n",
              "\n",
              "       wants_extra_baggage  wants_preferred_seat  wants_in_flight_meals  \\\n",
              "count         50000.000000          50000.000000           50000.000000   \n",
              "mean              0.668780              0.296960               0.427140   \n",
              "std               0.470657              0.456923               0.494668   \n",
              "min               0.000000              0.000000               0.000000   \n",
              "25%               0.000000              0.000000               0.000000   \n",
              "50%               1.000000              0.000000               0.000000   \n",
              "75%               1.000000              1.000000               1.000000   \n",
              "max               1.000000              1.000000               1.000000   \n",
              "\n",
              "       flight_duration  booking_complete  \n",
              "count     50000.000000      50000.000000  \n",
              "mean          7.277561          0.149560  \n",
              "std           1.496863          0.356643  \n",
              "min           4.670000          0.000000  \n",
              "25%           5.620000          0.000000  \n",
              "50%           7.570000          0.000000  \n",
              "75%           8.830000          0.000000  \n",
              "max           9.500000          1.000000  "
            ],
            "text/html": [
              "\n",
              "  <div id=\"df-dafcb4ca-504f-4e26-a1d9-482f055e342f\" class=\"colab-df-container\">\n",
              "    <div>\n",
              "<style scoped>\n",
              "    .dataframe tbody tr th:only-of-type {\n",
              "        vertical-align: middle;\n",
              "    }\n",
              "\n",
              "    .dataframe tbody tr th {\n",
              "        vertical-align: top;\n",
              "    }\n",
              "\n",
              "    .dataframe thead th {\n",
              "        text-align: right;\n",
              "    }\n",
              "</style>\n",
              "<table border=\"1\" class=\"dataframe\">\n",
              "  <thead>\n",
              "    <tr style=\"text-align: right;\">\n",
              "      <th></th>\n",
              "      <th>num_passengers</th>\n",
              "      <th>purchase_lead</th>\n",
              "      <th>length_of_stay</th>\n",
              "      <th>flight_hour</th>\n",
              "      <th>wants_extra_baggage</th>\n",
              "      <th>wants_preferred_seat</th>\n",
              "      <th>wants_in_flight_meals</th>\n",
              "      <th>flight_duration</th>\n",
              "      <th>booking_complete</th>\n",
              "    </tr>\n",
              "  </thead>\n",
              "  <tbody>\n",
              "    <tr>\n",
              "      <th>count</th>\n",
              "      <td>50000.000000</td>\n",
              "      <td>50000.000000</td>\n",
              "      <td>50000.00000</td>\n",
              "      <td>50000.00000</td>\n",
              "      <td>50000.000000</td>\n",
              "      <td>50000.000000</td>\n",
              "      <td>50000.000000</td>\n",
              "      <td>50000.000000</td>\n",
              "      <td>50000.000000</td>\n",
              "    </tr>\n",
              "    <tr>\n",
              "      <th>mean</th>\n",
              "      <td>1.591240</td>\n",
              "      <td>84.940480</td>\n",
              "      <td>23.04456</td>\n",
              "      <td>9.06634</td>\n",
              "      <td>0.668780</td>\n",
              "      <td>0.296960</td>\n",
              "      <td>0.427140</td>\n",
              "      <td>7.277561</td>\n",
              "      <td>0.149560</td>\n",
              "    </tr>\n",
              "    <tr>\n",
              "      <th>std</th>\n",
              "      <td>1.020165</td>\n",
              "      <td>90.451378</td>\n",
              "      <td>33.88767</td>\n",
              "      <td>5.41266</td>\n",
              "      <td>0.470657</td>\n",
              "      <td>0.456923</td>\n",
              "      <td>0.494668</td>\n",
              "      <td>1.496863</td>\n",
              "      <td>0.356643</td>\n",
              "    </tr>\n",
              "    <tr>\n",
              "      <th>min</th>\n",
              "      <td>1.000000</td>\n",
              "      <td>0.000000</td>\n",
              "      <td>0.00000</td>\n",
              "      <td>0.00000</td>\n",
              "      <td>0.000000</td>\n",
              "      <td>0.000000</td>\n",
              "      <td>0.000000</td>\n",
              "      <td>4.670000</td>\n",
              "      <td>0.000000</td>\n",
              "    </tr>\n",
              "    <tr>\n",
              "      <th>25%</th>\n",
              "      <td>1.000000</td>\n",
              "      <td>21.000000</td>\n",
              "      <td>5.00000</td>\n",
              "      <td>5.00000</td>\n",
              "      <td>0.000000</td>\n",
              "      <td>0.000000</td>\n",
              "      <td>0.000000</td>\n",
              "      <td>5.620000</td>\n",
              "      <td>0.000000</td>\n",
              "    </tr>\n",
              "    <tr>\n",
              "      <th>50%</th>\n",
              "      <td>1.000000</td>\n",
              "      <td>51.000000</td>\n",
              "      <td>17.00000</td>\n",
              "      <td>9.00000</td>\n",
              "      <td>1.000000</td>\n",
              "      <td>0.000000</td>\n",
              "      <td>0.000000</td>\n",
              "      <td>7.570000</td>\n",
              "      <td>0.000000</td>\n",
              "    </tr>\n",
              "    <tr>\n",
              "      <th>75%</th>\n",
              "      <td>2.000000</td>\n",
              "      <td>115.000000</td>\n",
              "      <td>28.00000</td>\n",
              "      <td>13.00000</td>\n",
              "      <td>1.000000</td>\n",
              "      <td>1.000000</td>\n",
              "      <td>1.000000</td>\n",
              "      <td>8.830000</td>\n",
              "      <td>0.000000</td>\n",
              "    </tr>\n",
              "    <tr>\n",
              "      <th>max</th>\n",
              "      <td>9.000000</td>\n",
              "      <td>867.000000</td>\n",
              "      <td>778.00000</td>\n",
              "      <td>23.00000</td>\n",
              "      <td>1.000000</td>\n",
              "      <td>1.000000</td>\n",
              "      <td>1.000000</td>\n",
              "      <td>9.500000</td>\n",
              "      <td>1.000000</td>\n",
              "    </tr>\n",
              "  </tbody>\n",
              "</table>\n",
              "</div>\n",
              "    <div class=\"colab-df-buttons\">\n",
              "\n",
              "  <div class=\"colab-df-container\">\n",
              "    <button class=\"colab-df-convert\" onclick=\"convertToInteractive('df-dafcb4ca-504f-4e26-a1d9-482f055e342f')\"\n",
              "            title=\"Convert this dataframe to an interactive table.\"\n",
              "            style=\"display:none;\">\n",
              "\n",
              "  <svg xmlns=\"http://www.w3.org/2000/svg\" height=\"24px\" viewBox=\"0 -960 960 960\">\n",
              "    <path d=\"M120-120v-720h720v720H120Zm60-500h600v-160H180v160Zm220 220h160v-160H400v160Zm0 220h160v-160H400v160ZM180-400h160v-160H180v160Zm440 0h160v-160H620v160ZM180-180h160v-160H180v160Zm440 0h160v-160H620v160Z\"/>\n",
              "  </svg>\n",
              "    </button>\n",
              "\n",
              "  <style>\n",
              "    .colab-df-container {\n",
              "      display:flex;\n",
              "      gap: 12px;\n",
              "    }\n",
              "\n",
              "    .colab-df-convert {\n",
              "      background-color: #E8F0FE;\n",
              "      border: none;\n",
              "      border-radius: 50%;\n",
              "      cursor: pointer;\n",
              "      display: none;\n",
              "      fill: #1967D2;\n",
              "      height: 32px;\n",
              "      padding: 0 0 0 0;\n",
              "      width: 32px;\n",
              "    }\n",
              "\n",
              "    .colab-df-convert:hover {\n",
              "      background-color: #E2EBFA;\n",
              "      box-shadow: 0px 1px 2px rgba(60, 64, 67, 0.3), 0px 1px 3px 1px rgba(60, 64, 67, 0.15);\n",
              "      fill: #174EA6;\n",
              "    }\n",
              "\n",
              "    .colab-df-buttons div {\n",
              "      margin-bottom: 4px;\n",
              "    }\n",
              "\n",
              "    [theme=dark] .colab-df-convert {\n",
              "      background-color: #3B4455;\n",
              "      fill: #D2E3FC;\n",
              "    }\n",
              "\n",
              "    [theme=dark] .colab-df-convert:hover {\n",
              "      background-color: #434B5C;\n",
              "      box-shadow: 0px 1px 3px 1px rgba(0, 0, 0, 0.15);\n",
              "      filter: drop-shadow(0px 1px 2px rgba(0, 0, 0, 0.3));\n",
              "      fill: #FFFFFF;\n",
              "    }\n",
              "  </style>\n",
              "\n",
              "    <script>\n",
              "      const buttonEl =\n",
              "        document.querySelector('#df-dafcb4ca-504f-4e26-a1d9-482f055e342f button.colab-df-convert');\n",
              "      buttonEl.style.display =\n",
              "        google.colab.kernel.accessAllowed ? 'block' : 'none';\n",
              "\n",
              "      async function convertToInteractive(key) {\n",
              "        const element = document.querySelector('#df-dafcb4ca-504f-4e26-a1d9-482f055e342f');\n",
              "        const dataTable =\n",
              "          await google.colab.kernel.invokeFunction('convertToInteractive',\n",
              "                                                    [key], {});\n",
              "        if (!dataTable) return;\n",
              "\n",
              "        const docLinkHtml = 'Like what you see? Visit the ' +\n",
              "          '<a target=\"_blank\" href=https://colab.research.google.com/notebooks/data_table.ipynb>data table notebook</a>'\n",
              "          + ' to learn more about interactive tables.';\n",
              "        element.innerHTML = '';\n",
              "        dataTable['output_type'] = 'display_data';\n",
              "        await google.colab.output.renderOutput(dataTable, element);\n",
              "        const docLink = document.createElement('div');\n",
              "        docLink.innerHTML = docLinkHtml;\n",
              "        element.appendChild(docLink);\n",
              "      }\n",
              "    </script>\n",
              "  </div>\n",
              "\n",
              "\n",
              "<div id=\"df-a5746021-168f-49de-ac1b-4dcd30ce3fcc\">\n",
              "  <button class=\"colab-df-quickchart\" onclick=\"quickchart('df-a5746021-168f-49de-ac1b-4dcd30ce3fcc')\"\n",
              "            title=\"Suggest charts\"\n",
              "            style=\"display:none;\">\n",
              "\n",
              "<svg xmlns=\"http://www.w3.org/2000/svg\" height=\"24px\"viewBox=\"0 0 24 24\"\n",
              "     width=\"24px\">\n",
              "    <g>\n",
              "        <path d=\"M19 3H5c-1.1 0-2 .9-2 2v14c0 1.1.9 2 2 2h14c1.1 0 2-.9 2-2V5c0-1.1-.9-2-2-2zM9 17H7v-7h2v7zm4 0h-2V7h2v10zm4 0h-2v-4h2v4z\"/>\n",
              "    </g>\n",
              "</svg>\n",
              "  </button>\n",
              "\n",
              "<style>\n",
              "  .colab-df-quickchart {\n",
              "      --bg-color: #E8F0FE;\n",
              "      --fill-color: #1967D2;\n",
              "      --hover-bg-color: #E2EBFA;\n",
              "      --hover-fill-color: #174EA6;\n",
              "      --disabled-fill-color: #AAA;\n",
              "      --disabled-bg-color: #DDD;\n",
              "  }\n",
              "\n",
              "  [theme=dark] .colab-df-quickchart {\n",
              "      --bg-color: #3B4455;\n",
              "      --fill-color: #D2E3FC;\n",
              "      --hover-bg-color: #434B5C;\n",
              "      --hover-fill-color: #FFFFFF;\n",
              "      --disabled-bg-color: #3B4455;\n",
              "      --disabled-fill-color: #666;\n",
              "  }\n",
              "\n",
              "  .colab-df-quickchart {\n",
              "    background-color: var(--bg-color);\n",
              "    border: none;\n",
              "    border-radius: 50%;\n",
              "    cursor: pointer;\n",
              "    display: none;\n",
              "    fill: var(--fill-color);\n",
              "    height: 32px;\n",
              "    padding: 0;\n",
              "    width: 32px;\n",
              "  }\n",
              "\n",
              "  .colab-df-quickchart:hover {\n",
              "    background-color: var(--hover-bg-color);\n",
              "    box-shadow: 0 1px 2px rgba(60, 64, 67, 0.3), 0 1px 3px 1px rgba(60, 64, 67, 0.15);\n",
              "    fill: var(--button-hover-fill-color);\n",
              "  }\n",
              "\n",
              "  .colab-df-quickchart-complete:disabled,\n",
              "  .colab-df-quickchart-complete:disabled:hover {\n",
              "    background-color: var(--disabled-bg-color);\n",
              "    fill: var(--disabled-fill-color);\n",
              "    box-shadow: none;\n",
              "  }\n",
              "\n",
              "  .colab-df-spinner {\n",
              "    border: 2px solid var(--fill-color);\n",
              "    border-color: transparent;\n",
              "    border-bottom-color: var(--fill-color);\n",
              "    animation:\n",
              "      spin 1s steps(1) infinite;\n",
              "  }\n",
              "\n",
              "  @keyframes spin {\n",
              "    0% {\n",
              "      border-color: transparent;\n",
              "      border-bottom-color: var(--fill-color);\n",
              "      border-left-color: var(--fill-color);\n",
              "    }\n",
              "    20% {\n",
              "      border-color: transparent;\n",
              "      border-left-color: var(--fill-color);\n",
              "      border-top-color: var(--fill-color);\n",
              "    }\n",
              "    30% {\n",
              "      border-color: transparent;\n",
              "      border-left-color: var(--fill-color);\n",
              "      border-top-color: var(--fill-color);\n",
              "      border-right-color: var(--fill-color);\n",
              "    }\n",
              "    40% {\n",
              "      border-color: transparent;\n",
              "      border-right-color: var(--fill-color);\n",
              "      border-top-color: var(--fill-color);\n",
              "    }\n",
              "    60% {\n",
              "      border-color: transparent;\n",
              "      border-right-color: var(--fill-color);\n",
              "    }\n",
              "    80% {\n",
              "      border-color: transparent;\n",
              "      border-right-color: var(--fill-color);\n",
              "      border-bottom-color: var(--fill-color);\n",
              "    }\n",
              "    90% {\n",
              "      border-color: transparent;\n",
              "      border-bottom-color: var(--fill-color);\n",
              "    }\n",
              "  }\n",
              "</style>\n",
              "\n",
              "  <script>\n",
              "    async function quickchart(key) {\n",
              "      const quickchartButtonEl =\n",
              "        document.querySelector('#' + key + ' button');\n",
              "      quickchartButtonEl.disabled = true;  // To prevent multiple clicks.\n",
              "      quickchartButtonEl.classList.add('colab-df-spinner');\n",
              "      try {\n",
              "        const charts = await google.colab.kernel.invokeFunction(\n",
              "            'suggestCharts', [key], {});\n",
              "      } catch (error) {\n",
              "        console.error('Error during call to suggestCharts:', error);\n",
              "      }\n",
              "      quickchartButtonEl.classList.remove('colab-df-spinner');\n",
              "      quickchartButtonEl.classList.add('colab-df-quickchart-complete');\n",
              "    }\n",
              "    (() => {\n",
              "      let quickchartButtonEl =\n",
              "        document.querySelector('#df-a5746021-168f-49de-ac1b-4dcd30ce3fcc button');\n",
              "      quickchartButtonEl.style.display =\n",
              "        google.colab.kernel.accessAllowed ? 'block' : 'none';\n",
              "    })();\n",
              "  </script>\n",
              "</div>\n",
              "    </div>\n",
              "  </div>\n"
            ]
          },
          "metadata": {},
          "execution_count": 6
        }
      ]
    },
    {
      "cell_type": "code",
      "source": [
        "data.dtypes"
      ],
      "metadata": {
        "colab": {
          "base_uri": "https://localhost:8080/"
        },
        "id": "x_wTKhBxvHo9",
        "outputId": "d92dd62a-5a09-49ec-8ce9-a4bfb67e21ae"
      },
      "execution_count": 7,
      "outputs": [
        {
          "output_type": "execute_result",
          "data": {
            "text/plain": [
              "num_passengers             int64\n",
              "sales_channel             object\n",
              "trip_type                 object\n",
              "purchase_lead              int64\n",
              "length_of_stay             int64\n",
              "flight_hour                int64\n",
              "flight_day                object\n",
              "route                     object\n",
              "booking_origin            object\n",
              "wants_extra_baggage        int64\n",
              "wants_preferred_seat       int64\n",
              "wants_in_flight_meals      int64\n",
              "flight_duration          float64\n",
              "booking_complete           int64\n",
              "dtype: object"
            ]
          },
          "metadata": {},
          "execution_count": 7
        }
      ]
    },
    {
      "cell_type": "code",
      "source": [
        "cat_cols=data.select_dtypes(include='object').columns\n",
        "cat_cols"
      ],
      "metadata": {
        "colab": {
          "base_uri": "https://localhost:8080/"
        },
        "id": "D8qW4821yCPX",
        "outputId": "c7626f7e-c1ce-4606-a1cb-6d7dd7b0540d"
      },
      "execution_count": 100,
      "outputs": [
        {
          "output_type": "execute_result",
          "data": {
            "text/plain": [
              "Index(['sales_channel', 'trip_type', 'flight_day', 'route', 'booking_origin',\n",
              "       'num_passenges'],\n",
              "      dtype='object')"
            ]
          },
          "metadata": {},
          "execution_count": 100
        }
      ]
    },
    {
      "cell_type": "code",
      "source": [
        "cntns_cols=data.select_dtypes(include=['int64','float64']).columns\n",
        "cntns_cols"
      ],
      "metadata": {
        "colab": {
          "base_uri": "https://localhost:8080/"
        },
        "id": "Jo_obU2EyVQU",
        "outputId": "0c2348de-fd5b-48e1-88e4-8f1720488432"
      },
      "execution_count": 101,
      "outputs": [
        {
          "output_type": "execute_result",
          "data": {
            "text/plain": [
              "Index(['num_passengers', 'purchase_lead', 'length_of_stay', 'flight_hour',\n",
              "       'wants_extra_baggage', 'wants_preferred_seat', 'wants_in_flight_meals',\n",
              "       'flight_duration', 'booking_complete'],\n",
              "      dtype='object')"
            ]
          },
          "metadata": {},
          "execution_count": 101
        }
      ]
    },
    {
      "cell_type": "code",
      "source": [
        "for colum in cat_cols:\n",
        "  unique_types=data[colum].value_counts()\n",
        "  print(f\"\\nIndividual Counts of {colum}:\\n\",unique_types)"
      ],
      "metadata": {
        "colab": {
          "base_uri": "https://localhost:8080/"
        },
        "id": "dHYoRCIQy8H6",
        "outputId": "e227b005-3d70-4b0e-93fd-54856c51995e"
      },
      "execution_count": 10,
      "outputs": [
        {
          "output_type": "stream",
          "name": "stdout",
          "text": [
            "\n",
            "Individual Counts of sales_channel:\n",
            " Internet    44382\n",
            "Mobile       5618\n",
            "Name: sales_channel, dtype: int64\n",
            "\n",
            "Individual Counts of trip_type:\n",
            " RoundTrip     49497\n",
            "OneWay          387\n",
            "CircleTrip      116\n",
            "Name: trip_type, dtype: int64\n",
            "\n",
            "Individual Counts of flight_day:\n",
            " Mon    8102\n",
            "Wed    7674\n",
            "Tue    7673\n",
            "Thu    7424\n",
            "Fri    6761\n",
            "Sun    6554\n",
            "Sat    5812\n",
            "Name: flight_day, dtype: int64\n",
            "\n",
            "Individual Counts of route:\n",
            " AKLKUL    2680\n",
            "PENTPE     924\n",
            "MELSGN     842\n",
            "ICNSIN     801\n",
            "DMKKIX     744\n",
            "          ... \n",
            "LBUTPE       1\n",
            "CXRMEL       1\n",
            "DELKBR       1\n",
            "KOSSYD       1\n",
            "MRUXIY       1\n",
            "Name: route, Length: 799, dtype: int64\n",
            "\n",
            "Individual Counts of booking_origin:\n",
            " Australia               17872\n",
            "Malaysia                 7174\n",
            "South Korea              4559\n",
            "Japan                    3885\n",
            "China                    3387\n",
            "                        ...  \n",
            "Panama                      1\n",
            "Tonga                       1\n",
            "Tanzania                    1\n",
            "Bulgaria                    1\n",
            "Svalbard & Jan Mayen        1\n",
            "Name: booking_origin, Length: 104, dtype: int64\n"
          ]
        }
      ]
    },
    {
      "cell_type": "code",
      "source": [
        "data.num_passengers.value_counts()"
      ],
      "metadata": {
        "colab": {
          "base_uri": "https://localhost:8080/"
        },
        "id": "wJIN7gGs1KUt",
        "outputId": "4218d38f-9349-4f24-ec04-b517a2a4af00"
      },
      "execution_count": 11,
      "outputs": [
        {
          "output_type": "execute_result",
          "data": {
            "text/plain": [
              "1    31352\n",
              "2    12804\n",
              "3     2941\n",
              "4     1784\n",
              "5      561\n",
              "6      289\n",
              "7      114\n",
              "8       89\n",
              "9       66\n",
              "Name: num_passengers, dtype: int64"
            ]
          },
          "metadata": {},
          "execution_count": 11
        }
      ]
    },
    {
      "cell_type": "code",
      "source": [
        "data.wants_extra_baggage.value_counts()"
      ],
      "metadata": {
        "colab": {
          "base_uri": "https://localhost:8080/"
        },
        "id": "ARkV2-YB1UH6",
        "outputId": "a9adaf92-0e71-4ff7-b8bb-9bb4da7ce49d"
      },
      "execution_count": 12,
      "outputs": [
        {
          "output_type": "execute_result",
          "data": {
            "text/plain": [
              "1    33439\n",
              "0    16561\n",
              "Name: wants_extra_baggage, dtype: int64"
            ]
          },
          "metadata": {},
          "execution_count": 12
        }
      ]
    },
    {
      "cell_type": "code",
      "source": [
        "data.wants_in_flight_meals.value_counts()\n"
      ],
      "metadata": {
        "colab": {
          "base_uri": "https://localhost:8080/"
        },
        "id": "5yZXaTgb2KF5",
        "outputId": "5af0c849-3e52-4372-8a6f-26daa56325b1"
      },
      "execution_count": 13,
      "outputs": [
        {
          "output_type": "execute_result",
          "data": {
            "text/plain": [
              "0    28643\n",
              "1    21357\n",
              "Name: wants_in_flight_meals, dtype: int64"
            ]
          },
          "metadata": {},
          "execution_count": 13
        }
      ]
    },
    {
      "cell_type": "code",
      "source": [
        "data.wants_preferred_seat.value_counts()"
      ],
      "metadata": {
        "colab": {
          "base_uri": "https://localhost:8080/"
        },
        "id": "xyJLSG__2N-l",
        "outputId": "05a40d35-7462-4141-fca1-ce9bd0824c92"
      },
      "execution_count": 14,
      "outputs": [
        {
          "output_type": "execute_result",
          "data": {
            "text/plain": [
              "0    35152\n",
              "1    14848\n",
              "Name: wants_preferred_seat, dtype: int64"
            ]
          },
          "metadata": {},
          "execution_count": 14
        }
      ]
    },
    {
      "cell_type": "code",
      "source": [
        "data.booking_complete.value_counts()"
      ],
      "metadata": {
        "colab": {
          "base_uri": "https://localhost:8080/"
        },
        "id": "2MMolMNG25a-",
        "outputId": "d3806e49-b717-44d5-e98d-0a0f98aedca5"
      },
      "execution_count": 15,
      "outputs": [
        {
          "output_type": "execute_result",
          "data": {
            "text/plain": [
              "0    42522\n",
              "1     7478\n",
              "Name: booking_complete, dtype: int64"
            ]
          },
          "metadata": {},
          "execution_count": 15
        }
      ]
    },
    {
      "cell_type": "code",
      "source": [
        "data.duplicated().sum()"
      ],
      "metadata": {
        "colab": {
          "base_uri": "https://localhost:8080/"
        },
        "id": "BjNfJP_EZIf9",
        "outputId": "e2486403-6de2-4d23-91a7-251b7a1ead6d"
      },
      "execution_count": 18,
      "outputs": [
        {
          "output_type": "execute_result",
          "data": {
            "text/plain": [
              "719"
            ]
          },
          "metadata": {},
          "execution_count": 18
        }
      ]
    },
    {
      "cell_type": "code",
      "source": [
        "data[data.duplicated()].head()"
      ],
      "metadata": {
        "colab": {
          "base_uri": "https://localhost:8080/",
          "height": 226
        },
        "id": "slN7Ac2RZQJo",
        "outputId": "290d690c-7bdb-4ce0-8330-96a9a06c70bc"
      },
      "execution_count": 20,
      "outputs": [
        {
          "output_type": "execute_result",
          "data": {
            "text/plain": [
              "     num_passengers sales_channel  trip_type  purchase_lead  length_of_stay  \\\n",
              "196               5      Internet  RoundTrip            206              17   \n",
              "316               5      Internet  RoundTrip            206              17   \n",
              "384               5      Internet  RoundTrip            206              17   \n",
              "456               1      Internet  RoundTrip             30              85   \n",
              "513               3      Internet  RoundTrip            109              20   \n",
              "\n",
              "     flight_hour flight_day   route booking_origin  wants_extra_baggage  \\\n",
              "196           13        Sun  AKLKUL       Malaysia                    1   \n",
              "316           13        Sun  AKLKUL       Malaysia                    1   \n",
              "384           13        Sun  AKLKUL       Malaysia                    1   \n",
              "456           15        Fri  AKLKUL       Malaysia                    1   \n",
              "513            4        Tue  AKLKUL      Singapore                    1   \n",
              "\n",
              "     wants_preferred_seat  wants_in_flight_meals  flight_duration  \\\n",
              "196                     0                      0             8.83   \n",
              "316                     0                      0             8.83   \n",
              "384                     0                      0             8.83   \n",
              "456                     0                      0             8.83   \n",
              "513                     0                      1             8.83   \n",
              "\n",
              "     booking_complete  \n",
              "196                 0  \n",
              "316                 0  \n",
              "384                 0  \n",
              "456                 1  \n",
              "513                 0  "
            ],
            "text/html": [
              "\n",
              "  <div id=\"df-0cd8cc0c-0e68-41d7-bf9c-20aca8ced804\" class=\"colab-df-container\">\n",
              "    <div>\n",
              "<style scoped>\n",
              "    .dataframe tbody tr th:only-of-type {\n",
              "        vertical-align: middle;\n",
              "    }\n",
              "\n",
              "    .dataframe tbody tr th {\n",
              "        vertical-align: top;\n",
              "    }\n",
              "\n",
              "    .dataframe thead th {\n",
              "        text-align: right;\n",
              "    }\n",
              "</style>\n",
              "<table border=\"1\" class=\"dataframe\">\n",
              "  <thead>\n",
              "    <tr style=\"text-align: right;\">\n",
              "      <th></th>\n",
              "      <th>num_passengers</th>\n",
              "      <th>sales_channel</th>\n",
              "      <th>trip_type</th>\n",
              "      <th>purchase_lead</th>\n",
              "      <th>length_of_stay</th>\n",
              "      <th>flight_hour</th>\n",
              "      <th>flight_day</th>\n",
              "      <th>route</th>\n",
              "      <th>booking_origin</th>\n",
              "      <th>wants_extra_baggage</th>\n",
              "      <th>wants_preferred_seat</th>\n",
              "      <th>wants_in_flight_meals</th>\n",
              "      <th>flight_duration</th>\n",
              "      <th>booking_complete</th>\n",
              "    </tr>\n",
              "  </thead>\n",
              "  <tbody>\n",
              "    <tr>\n",
              "      <th>196</th>\n",
              "      <td>5</td>\n",
              "      <td>Internet</td>\n",
              "      <td>RoundTrip</td>\n",
              "      <td>206</td>\n",
              "      <td>17</td>\n",
              "      <td>13</td>\n",
              "      <td>Sun</td>\n",
              "      <td>AKLKUL</td>\n",
              "      <td>Malaysia</td>\n",
              "      <td>1</td>\n",
              "      <td>0</td>\n",
              "      <td>0</td>\n",
              "      <td>8.83</td>\n",
              "      <td>0</td>\n",
              "    </tr>\n",
              "    <tr>\n",
              "      <th>316</th>\n",
              "      <td>5</td>\n",
              "      <td>Internet</td>\n",
              "      <td>RoundTrip</td>\n",
              "      <td>206</td>\n",
              "      <td>17</td>\n",
              "      <td>13</td>\n",
              "      <td>Sun</td>\n",
              "      <td>AKLKUL</td>\n",
              "      <td>Malaysia</td>\n",
              "      <td>1</td>\n",
              "      <td>0</td>\n",
              "      <td>0</td>\n",
              "      <td>8.83</td>\n",
              "      <td>0</td>\n",
              "    </tr>\n",
              "    <tr>\n",
              "      <th>384</th>\n",
              "      <td>5</td>\n",
              "      <td>Internet</td>\n",
              "      <td>RoundTrip</td>\n",
              "      <td>206</td>\n",
              "      <td>17</td>\n",
              "      <td>13</td>\n",
              "      <td>Sun</td>\n",
              "      <td>AKLKUL</td>\n",
              "      <td>Malaysia</td>\n",
              "      <td>1</td>\n",
              "      <td>0</td>\n",
              "      <td>0</td>\n",
              "      <td>8.83</td>\n",
              "      <td>0</td>\n",
              "    </tr>\n",
              "    <tr>\n",
              "      <th>456</th>\n",
              "      <td>1</td>\n",
              "      <td>Internet</td>\n",
              "      <td>RoundTrip</td>\n",
              "      <td>30</td>\n",
              "      <td>85</td>\n",
              "      <td>15</td>\n",
              "      <td>Fri</td>\n",
              "      <td>AKLKUL</td>\n",
              "      <td>Malaysia</td>\n",
              "      <td>1</td>\n",
              "      <td>0</td>\n",
              "      <td>0</td>\n",
              "      <td>8.83</td>\n",
              "      <td>1</td>\n",
              "    </tr>\n",
              "    <tr>\n",
              "      <th>513</th>\n",
              "      <td>3</td>\n",
              "      <td>Internet</td>\n",
              "      <td>RoundTrip</td>\n",
              "      <td>109</td>\n",
              "      <td>20</td>\n",
              "      <td>4</td>\n",
              "      <td>Tue</td>\n",
              "      <td>AKLKUL</td>\n",
              "      <td>Singapore</td>\n",
              "      <td>1</td>\n",
              "      <td>0</td>\n",
              "      <td>1</td>\n",
              "      <td>8.83</td>\n",
              "      <td>0</td>\n",
              "    </tr>\n",
              "  </tbody>\n",
              "</table>\n",
              "</div>\n",
              "    <div class=\"colab-df-buttons\">\n",
              "\n",
              "  <div class=\"colab-df-container\">\n",
              "    <button class=\"colab-df-convert\" onclick=\"convertToInteractive('df-0cd8cc0c-0e68-41d7-bf9c-20aca8ced804')\"\n",
              "            title=\"Convert this dataframe to an interactive table.\"\n",
              "            style=\"display:none;\">\n",
              "\n",
              "  <svg xmlns=\"http://www.w3.org/2000/svg\" height=\"24px\" viewBox=\"0 -960 960 960\">\n",
              "    <path d=\"M120-120v-720h720v720H120Zm60-500h600v-160H180v160Zm220 220h160v-160H400v160Zm0 220h160v-160H400v160ZM180-400h160v-160H180v160Zm440 0h160v-160H620v160ZM180-180h160v-160H180v160Zm440 0h160v-160H620v160Z\"/>\n",
              "  </svg>\n",
              "    </button>\n",
              "\n",
              "  <style>\n",
              "    .colab-df-container {\n",
              "      display:flex;\n",
              "      gap: 12px;\n",
              "    }\n",
              "\n",
              "    .colab-df-convert {\n",
              "      background-color: #E8F0FE;\n",
              "      border: none;\n",
              "      border-radius: 50%;\n",
              "      cursor: pointer;\n",
              "      display: none;\n",
              "      fill: #1967D2;\n",
              "      height: 32px;\n",
              "      padding: 0 0 0 0;\n",
              "      width: 32px;\n",
              "    }\n",
              "\n",
              "    .colab-df-convert:hover {\n",
              "      background-color: #E2EBFA;\n",
              "      box-shadow: 0px 1px 2px rgba(60, 64, 67, 0.3), 0px 1px 3px 1px rgba(60, 64, 67, 0.15);\n",
              "      fill: #174EA6;\n",
              "    }\n",
              "\n",
              "    .colab-df-buttons div {\n",
              "      margin-bottom: 4px;\n",
              "    }\n",
              "\n",
              "    [theme=dark] .colab-df-convert {\n",
              "      background-color: #3B4455;\n",
              "      fill: #D2E3FC;\n",
              "    }\n",
              "\n",
              "    [theme=dark] .colab-df-convert:hover {\n",
              "      background-color: #434B5C;\n",
              "      box-shadow: 0px 1px 3px 1px rgba(0, 0, 0, 0.15);\n",
              "      filter: drop-shadow(0px 1px 2px rgba(0, 0, 0, 0.3));\n",
              "      fill: #FFFFFF;\n",
              "    }\n",
              "  </style>\n",
              "\n",
              "    <script>\n",
              "      const buttonEl =\n",
              "        document.querySelector('#df-0cd8cc0c-0e68-41d7-bf9c-20aca8ced804 button.colab-df-convert');\n",
              "      buttonEl.style.display =\n",
              "        google.colab.kernel.accessAllowed ? 'block' : 'none';\n",
              "\n",
              "      async function convertToInteractive(key) {\n",
              "        const element = document.querySelector('#df-0cd8cc0c-0e68-41d7-bf9c-20aca8ced804');\n",
              "        const dataTable =\n",
              "          await google.colab.kernel.invokeFunction('convertToInteractive',\n",
              "                                                    [key], {});\n",
              "        if (!dataTable) return;\n",
              "\n",
              "        const docLinkHtml = 'Like what you see? Visit the ' +\n",
              "          '<a target=\"_blank\" href=https://colab.research.google.com/notebooks/data_table.ipynb>data table notebook</a>'\n",
              "          + ' to learn more about interactive tables.';\n",
              "        element.innerHTML = '';\n",
              "        dataTable['output_type'] = 'display_data';\n",
              "        await google.colab.output.renderOutput(dataTable, element);\n",
              "        const docLink = document.createElement('div');\n",
              "        docLink.innerHTML = docLinkHtml;\n",
              "        element.appendChild(docLink);\n",
              "      }\n",
              "    </script>\n",
              "  </div>\n",
              "\n",
              "\n",
              "<div id=\"df-f4d3cf0b-44f9-4f34-b10b-db7c18d8831a\">\n",
              "  <button class=\"colab-df-quickchart\" onclick=\"quickchart('df-f4d3cf0b-44f9-4f34-b10b-db7c18d8831a')\"\n",
              "            title=\"Suggest charts\"\n",
              "            style=\"display:none;\">\n",
              "\n",
              "<svg xmlns=\"http://www.w3.org/2000/svg\" height=\"24px\"viewBox=\"0 0 24 24\"\n",
              "     width=\"24px\">\n",
              "    <g>\n",
              "        <path d=\"M19 3H5c-1.1 0-2 .9-2 2v14c0 1.1.9 2 2 2h14c1.1 0 2-.9 2-2V5c0-1.1-.9-2-2-2zM9 17H7v-7h2v7zm4 0h-2V7h2v10zm4 0h-2v-4h2v4z\"/>\n",
              "    </g>\n",
              "</svg>\n",
              "  </button>\n",
              "\n",
              "<style>\n",
              "  .colab-df-quickchart {\n",
              "      --bg-color: #E8F0FE;\n",
              "      --fill-color: #1967D2;\n",
              "      --hover-bg-color: #E2EBFA;\n",
              "      --hover-fill-color: #174EA6;\n",
              "      --disabled-fill-color: #AAA;\n",
              "      --disabled-bg-color: #DDD;\n",
              "  }\n",
              "\n",
              "  [theme=dark] .colab-df-quickchart {\n",
              "      --bg-color: #3B4455;\n",
              "      --fill-color: #D2E3FC;\n",
              "      --hover-bg-color: #434B5C;\n",
              "      --hover-fill-color: #FFFFFF;\n",
              "      --disabled-bg-color: #3B4455;\n",
              "      --disabled-fill-color: #666;\n",
              "  }\n",
              "\n",
              "  .colab-df-quickchart {\n",
              "    background-color: var(--bg-color);\n",
              "    border: none;\n",
              "    border-radius: 50%;\n",
              "    cursor: pointer;\n",
              "    display: none;\n",
              "    fill: var(--fill-color);\n",
              "    height: 32px;\n",
              "    padding: 0;\n",
              "    width: 32px;\n",
              "  }\n",
              "\n",
              "  .colab-df-quickchart:hover {\n",
              "    background-color: var(--hover-bg-color);\n",
              "    box-shadow: 0 1px 2px rgba(60, 64, 67, 0.3), 0 1px 3px 1px rgba(60, 64, 67, 0.15);\n",
              "    fill: var(--button-hover-fill-color);\n",
              "  }\n",
              "\n",
              "  .colab-df-quickchart-complete:disabled,\n",
              "  .colab-df-quickchart-complete:disabled:hover {\n",
              "    background-color: var(--disabled-bg-color);\n",
              "    fill: var(--disabled-fill-color);\n",
              "    box-shadow: none;\n",
              "  }\n",
              "\n",
              "  .colab-df-spinner {\n",
              "    border: 2px solid var(--fill-color);\n",
              "    border-color: transparent;\n",
              "    border-bottom-color: var(--fill-color);\n",
              "    animation:\n",
              "      spin 1s steps(1) infinite;\n",
              "  }\n",
              "\n",
              "  @keyframes spin {\n",
              "    0% {\n",
              "      border-color: transparent;\n",
              "      border-bottom-color: var(--fill-color);\n",
              "      border-left-color: var(--fill-color);\n",
              "    }\n",
              "    20% {\n",
              "      border-color: transparent;\n",
              "      border-left-color: var(--fill-color);\n",
              "      border-top-color: var(--fill-color);\n",
              "    }\n",
              "    30% {\n",
              "      border-color: transparent;\n",
              "      border-left-color: var(--fill-color);\n",
              "      border-top-color: var(--fill-color);\n",
              "      border-right-color: var(--fill-color);\n",
              "    }\n",
              "    40% {\n",
              "      border-color: transparent;\n",
              "      border-right-color: var(--fill-color);\n",
              "      border-top-color: var(--fill-color);\n",
              "    }\n",
              "    60% {\n",
              "      border-color: transparent;\n",
              "      border-right-color: var(--fill-color);\n",
              "    }\n",
              "    80% {\n",
              "      border-color: transparent;\n",
              "      border-right-color: var(--fill-color);\n",
              "      border-bottom-color: var(--fill-color);\n",
              "    }\n",
              "    90% {\n",
              "      border-color: transparent;\n",
              "      border-bottom-color: var(--fill-color);\n",
              "    }\n",
              "  }\n",
              "</style>\n",
              "\n",
              "  <script>\n",
              "    async function quickchart(key) {\n",
              "      const quickchartButtonEl =\n",
              "        document.querySelector('#' + key + ' button');\n",
              "      quickchartButtonEl.disabled = true;  // To prevent multiple clicks.\n",
              "      quickchartButtonEl.classList.add('colab-df-spinner');\n",
              "      try {\n",
              "        const charts = await google.colab.kernel.invokeFunction(\n",
              "            'suggestCharts', [key], {});\n",
              "      } catch (error) {\n",
              "        console.error('Error during call to suggestCharts:', error);\n",
              "      }\n",
              "      quickchartButtonEl.classList.remove('colab-df-spinner');\n",
              "      quickchartButtonEl.classList.add('colab-df-quickchart-complete');\n",
              "    }\n",
              "    (() => {\n",
              "      let quickchartButtonEl =\n",
              "        document.querySelector('#df-f4d3cf0b-44f9-4f34-b10b-db7c18d8831a button');\n",
              "      quickchartButtonEl.style.display =\n",
              "        google.colab.kernel.accessAllowed ? 'block' : 'none';\n",
              "    })();\n",
              "  </script>\n",
              "</div>\n",
              "    </div>\n",
              "  </div>\n"
            ]
          },
          "metadata": {},
          "execution_count": 20
        }
      ]
    },
    {
      "cell_type": "code",
      "source": [
        "data.drop_duplicates(inplace=True)\n",
        "data.shape"
      ],
      "metadata": {
        "colab": {
          "base_uri": "https://localhost:8080/"
        },
        "id": "ka3OGIMKZbun",
        "outputId": "ea33c2fc-846e-4ed2-d959-37a82c87f2d5"
      },
      "execution_count": 23,
      "outputs": [
        {
          "output_type": "execute_result",
          "data": {
            "text/plain": [
              "(49281, 14)"
            ]
          },
          "metadata": {},
          "execution_count": 23
        }
      ]
    },
    {
      "cell_type": "code",
      "source": [
        "plt.figure(figsize=(9,3))\n",
        "\n",
        "axes=sns.countplot(data=data,y='booking_complete',width=0.5,saturation=1,palette='rocket')\n",
        "plt.title('Count of Bookings Completed')\n",
        "\n",
        "plt.ylabel('Count')\n",
        "\n",
        "axes.bar_label(axes.containers[0],color='white',padding=-40,fontweight='bold')                    # Setting the barlables, so that the count can be seen on the bars\n",
        "axes.spines[['right','top','bottom']].set_visible(False)                                          # Removing the chart junk like boarders\n",
        "axes.xaxis.set_visible(False)"
      ],
      "metadata": {
        "colab": {
          "base_uri": "https://localhost:8080/",
          "height": 290
        },
        "id": "mS7Je82Z3WVO",
        "outputId": "27abc333-11c9-4dd0-a824-320c4191aa5f"
      },
      "execution_count": 24,
      "outputs": [
        {
          "output_type": "display_data",
          "data": {
            "text/plain": [
              "<Figure size 900x300 with 1 Axes>"
            ],
            "image/png": "[encoded data removed]"
          },
          "metadata": {}
        }
      ]
    },
    {
      "cell_type": "markdown",
      "source": [
        "**Data is *imbalanced!***"
      ],
      "metadata": {
        "id": "SWP4JgRYTwjD"
      }
    },
    {
      "cell_type": "markdown",
      "source": [
        "# **Data Cleaning & EDA**"
      ],
      "metadata": {
        "id": "GO0RsaFCaLCu"
      }
    },
    {
      "cell_type": "code",
      "source": [
        "data.head()"
      ],
      "metadata": {
        "colab": {
          "base_uri": "https://localhost:8080/",
          "height": 226
        },
        "id": "9E8Sd8PvcBoU",
        "outputId": "4ceee78d-9e70-45c8-ad4a-245ab040be47"
      },
      "execution_count": 27,
      "outputs": [
        {
          "output_type": "execute_result",
          "data": {
            "text/plain": [
              "   num_passengers sales_channel  trip_type  purchase_lead  length_of_stay  \\\n",
              "0               2      Internet  RoundTrip            262              19   \n",
              "1               1      Internet  RoundTrip            112              20   \n",
              "2               2      Internet  RoundTrip            243              22   \n",
              "3               1      Internet  RoundTrip             96              31   \n",
              "4               2      Internet  RoundTrip             68              22   \n",
              "\n",
              "   flight_hour flight_day   route booking_origin  wants_extra_baggage  \\\n",
              "0            7        Sat  AKLDEL    New Zealand                    1   \n",
              "1            3        Sat  AKLDEL    New Zealand                    0   \n",
              "2           17        Wed  AKLDEL          India                    1   \n",
              "3            4        Sat  AKLDEL    New Zealand                    0   \n",
              "4           15        Wed  AKLDEL          India                    1   \n",
              "\n",
              "   wants_preferred_seat  wants_in_flight_meals  flight_duration  \\\n",
              "0                     0                      0             5.52   \n",
              "1                     0                      0             5.52   \n",
              "2                     1                      0             5.52   \n",
              "3                     0                      1             5.52   \n",
              "4                     0                      1             5.52   \n",
              "\n",
              "   booking_complete  \n",
              "0                 0  \n",
              "1                 0  \n",
              "2                 0  \n",
              "3                 0  \n",
              "4                 0  "
            ],
            "text/html": [
              "\n",
              "  <div id=\"df-83be136b-3f31-4a84-966d-ba7400340549\" class=\"colab-df-container\">\n",
              "    <div>\n",
              "<style scoped>\n",
              "    .dataframe tbody tr th:only-of-type {\n",
              "        vertical-align: middle;\n",
              "    }\n",
              "\n",
              "    .dataframe tbody tr th {\n",
              "        vertical-align: top;\n",
              "    }\n",
              "\n",
              "    .dataframe thead th {\n",
              "        text-align: right;\n",
              "    }\n",
              "</style>\n",
              "<table border=\"1\" class=\"dataframe\">\n",
              "  <thead>\n",
              "    <tr style=\"text-align: right;\">\n",
              "      <th></th>\n",
              "      <th>num_passengers</th>\n",
              "      <th>sales_channel</th>\n",
              "      <th>trip_type</th>\n",
              "      <th>purchase_lead</th>\n",
              "      <th>length_of_stay</th>\n",
              "      <th>flight_hour</th>\n",
              "      <th>flight_day</th>\n",
              "      <th>route</th>\n",
              "      <th>booking_origin</th>\n",
              "      <th>wants_extra_baggage</th>\n",
              "      <th>wants_preferred_seat</th>\n",
              "      <th>wants_in_flight_meals</th>\n",
              "      <th>flight_duration</th>\n",
              "      <th>booking_complete</th>\n",
              "    </tr>\n",
              "  </thead>\n",
              "  <tbody>\n",
              "    <tr>\n",
              "      <th>0</th>\n",
              "      <td>2</td>\n",
              "      <td>Internet</td>\n",
              "      <td>RoundTrip</td>\n",
              "      <td>262</td>\n",
              "      <td>19</td>\n",
              "      <td>7</td>\n",
              "      <td>Sat</td>\n",
              "      <td>AKLDEL</td>\n",
              "      <td>New Zealand</td>\n",
              "      <td>1</td>\n",
              "      <td>0</td>\n",
              "      <td>0</td>\n",
              "      <td>5.52</td>\n",
              "      <td>0</td>\n",
              "    </tr>\n",
              "    <tr>\n",
              "      <th>1</th>\n",
              "      <td>1</td>\n",
              "      <td>Internet</td>\n",
              "      <td>RoundTrip</td>\n",
              "      <td>112</td>\n",
              "      <td>20</td>\n",
              "      <td>3</td>\n",
              "      <td>Sat</td>\n",
              "      <td>AKLDEL</td>\n",
              "      <td>New Zealand</td>\n",
              "      <td>0</td>\n",
              "      <td>0</td>\n",
              "      <td>0</td>\n",
              "      <td>5.52</td>\n",
              "      <td>0</td>\n",
              "    </tr>\n",
              "    <tr>\n",
              "      <th>2</th>\n",
              "      <td>2</td>\n",
              "      <td>Internet</td>\n",
              "      <td>RoundTrip</td>\n",
              "      <td>243</td>\n",
              "      <td>22</td>\n",
              "      <td>17</td>\n",
              "      <td>Wed</td>\n",
              "      <td>AKLDEL</td>\n",
              "      <td>India</td>\n",
              "      <td>1</td>\n",
              "      <td>1</td>\n",
              "      <td>0</td>\n",
              "      <td>5.52</td>\n",
              "      <td>0</td>\n",
              "    </tr>\n",
              "    <tr>\n",
              "      <th>3</th>\n",
              "      <td>1</td>\n",
              "      <td>Internet</td>\n",
              "      <td>RoundTrip</td>\n",
              "      <td>96</td>\n",
              "      <td>31</td>\n",
              "      <td>4</td>\n",
              "      <td>Sat</td>\n",
              "      <td>AKLDEL</td>\n",
              "      <td>New Zealand</td>\n",
              "      <td>0</td>\n",
              "      <td>0</td>\n",
              "      <td>1</td>\n",
              "      <td>5.52</td>\n",
              "      <td>0</td>\n",
              "    </tr>\n",
              "    <tr>\n",
              "      <th>4</th>\n",
              "      <td>2</td>\n",
              "      <td>Internet</td>\n",
              "      <td>RoundTrip</td>\n",
              "      <td>68</td>\n",
              "      <td>22</td>\n",
              "      <td>15</td>\n",
              "      <td>Wed</td>\n",
              "      <td>AKLDEL</td>\n",
              "      <td>India</td>\n",
              "      <td>1</td>\n",
              "      <td>0</td>\n",
              "      <td>1</td>\n",
              "      <td>5.52</td>\n",
              "      <td>0</td>\n",
              "    </tr>\n",
              "  </tbody>\n",
              "</table>\n",
              "</div>\n",
              "    <div class=\"colab-df-buttons\">\n",
              "\n",
              "  <div class=\"colab-df-container\">\n",
              "    <button class=\"colab-df-convert\" onclick=\"convertToInteractive('df-83be136b-3f31-4a84-966d-ba7400340549')\"\n",
              "            title=\"Convert this dataframe to an interactive table.\"\n",
              "            style=\"display:none;\">\n",
              "\n",
              "  <svg xmlns=\"http://www.w3.org/2000/svg\" height=\"24px\" viewBox=\"0 -960 960 960\">\n",
              "    <path d=\"M120-120v-720h720v720H120Zm60-500h600v-160H180v160Zm220 220h160v-160H400v160Zm0 220h160v-160H400v160ZM180-400h160v-160H180v160Zm440 0h160v-160H620v160ZM180-180h160v-160H180v160Zm440 0h160v-160H620v160Z\"/>\n",
              "  </svg>\n",
              "    </button>\n",
              "\n",
              "  <style>\n",
              "    .colab-df-container {\n",
              "      display:flex;\n",
              "      gap: 12px;\n",
              "    }\n",
              "\n",
              "    .colab-df-convert {\n",
              "      background-color: #E8F0FE;\n",
              "      border: none;\n",
              "      border-radius: 50%;\n",
              "      cursor: pointer;\n",
              "      display: none;\n",
              "      fill: #1967D2;\n",
              "      height: 32px;\n",
              "      padding: 0 0 0 0;\n",
              "      width: 32px;\n",
              "    }\n",
              "\n",
              "    .colab-df-convert:hover {\n",
              "      background-color: #E2EBFA;\n",
              "      box-shadow: 0px 1px 2px rgba(60, 64, 67, 0.3), 0px 1px 3px 1px rgba(60, 64, 67, 0.15);\n",
              "      fill: #174EA6;\n",
              "    }\n",
              "\n",
              "    .colab-df-buttons div {\n",
              "      margin-bottom: 4px;\n",
              "    }\n",
              "\n",
              "    [theme=dark] .colab-df-convert {\n",
              "      background-color: #3B4455;\n",
              "      fill: #D2E3FC;\n",
              "    }\n",
              "\n",
              "    [theme=dark] .colab-df-convert:hover {\n",
              "      background-color: #434B5C;\n",
              "      box-shadow: 0px 1px 3px 1px rgba(0, 0, 0, 0.15);\n",
              "      filter: drop-shadow(0px 1px 2px rgba(0, 0, 0, 0.3));\n",
              "      fill: #FFFFFF;\n",
              "    }\n",
              "  </style>\n",
              "\n",
              "    <script>\n",
              "      const buttonEl =\n",
              "        document.querySelector('#df-83be136b-3f31-4a84-966d-ba7400340549 button.colab-df-convert');\n",
              "      buttonEl.style.display =\n",
              "        google.colab.kernel.accessAllowed ? 'block' : 'none';\n",
              "\n",
              "      async function convertToInteractive(key) {\n",
              "        const element = document.querySelector('#df-83be136b-3f31-4a84-966d-ba7400340549');\n",
              "        const dataTable =\n",
              "          await google.colab.kernel.invokeFunction('convertToInteractive',\n",
              "                                                    [key], {});\n",
              "        if (!dataTable) return;\n",
              "\n",
              "        const docLinkHtml = 'Like what you see? Visit the ' +\n",
              "          '<a target=\"_blank\" href=https://colab.research.google.com/notebooks/data_table.ipynb>data table notebook</a>'\n",
              "          + ' to learn more about interactive tables.';\n",
              "        element.innerHTML = '';\n",
              "        dataTable['output_type'] = 'display_data';\n",
              "        await google.colab.output.renderOutput(dataTable, element);\n",
              "        const docLink = document.createElement('div');\n",
              "        docLink.innerHTML = docLinkHtml;\n",
              "        element.appendChild(docLink);\n",
              "      }\n",
              "    </script>\n",
              "  </div>\n",
              "\n",
              "\n",
              "<div id=\"df-c03e56e1-992e-4fd8-b52a-fb3cb688a193\">\n",
              "  <button class=\"colab-df-quickchart\" onclick=\"quickchart('df-c03e56e1-992e-4fd8-b52a-fb3cb688a193')\"\n",
              "            title=\"Suggest charts\"\n",
              "            style=\"display:none;\">\n",
              "\n",
              "<svg xmlns=\"http://www.w3.org/2000/svg\" height=\"24px\"viewBox=\"0 0 24 24\"\n",
              "     width=\"24px\">\n",
              "    <g>\n",
              "        <path d=\"M19 3H5c-1.1 0-2 .9-2 2v14c0 1.1.9 2 2 2h14c1.1 0 2-.9 2-2V5c0-1.1-.9-2-2-2zM9 17H7v-7h2v7zm4 0h-2V7h2v10zm4 0h-2v-4h2v4z\"/>\n",
              "    </g>\n",
              "</svg>\n",
              "  </button>\n",
              "\n",
              "<style>\n",
              "  .colab-df-quickchart {\n",
              "      --bg-color: #E8F0FE;\n",
              "      --fill-color: #1967D2;\n",
              "      --hover-bg-color: #E2EBFA;\n",
              "      --hover-fill-color: #174EA6;\n",
              "      --disabled-fill-color: #AAA;\n",
              "      --disabled-bg-color: #DDD;\n",
              "  }\n",
              "\n",
              "  [theme=dark] .colab-df-quickchart {\n",
              "      --bg-color: #3B4455;\n",
              "      --fill-color: #D2E3FC;\n",
              "      --hover-bg-color: #434B5C;\n",
              "      --hover-fill-color: #FFFFFF;\n",
              "      --disabled-bg-color: #3B4455;\n",
              "      --disabled-fill-color: #666;\n",
              "  }\n",
              "\n",
              "  .colab-df-quickchart {\n",
              "    background-color: var(--bg-color);\n",
              "    border: none;\n",
              "    border-radius: 50%;\n",
              "    cursor: pointer;\n",
              "    display: none;\n",
              "    fill: var(--fill-color);\n",
              "    height: 32px;\n",
              "    padding: 0;\n",
              "    width: 32px;\n",
              "  }\n",
              "\n",
              "  .colab-df-quickchart:hover {\n",
              "    background-color: var(--hover-bg-color);\n",
              "    box-shadow: 0 1px 2px rgba(60, 64, 67, 0.3), 0 1px 3px 1px rgba(60, 64, 67, 0.15);\n",
              "    fill: var(--button-hover-fill-color);\n",
              "  }\n",
              "\n",
              "  .colab-df-quickchart-complete:disabled,\n",
              "  .colab-df-quickchart-complete:disabled:hover {\n",
              "    background-color: var(--disabled-bg-color);\n",
              "    fill: var(--disabled-fill-color);\n",
              "    box-shadow: none;\n",
              "  }\n",
              "\n",
              "  .colab-df-spinner {\n",
              "    border: 2px solid var(--fill-color);\n",
              "    border-color: transparent;\n",
              "    border-bottom-color: var(--fill-color);\n",
              "    animation:\n",
              "      spin 1s steps(1) infinite;\n",
              "  }\n",
              "\n",
              "  @keyframes spin {\n",
              "    0% {\n",
              "      border-color: transparent;\n",
              "      border-bottom-color: var(--fill-color);\n",
              "      border-left-color: var(--fill-color);\n",
              "    }\n",
              "    20% {\n",
              "      border-color: transparent;\n",
              "      border-left-color: var(--fill-color);\n",
              "      border-top-color: var(--fill-color);\n",
              "    }\n",
              "    30% {\n",
              "      border-color: transparent;\n",
              "      border-left-color: var(--fill-color);\n",
              "      border-top-color: var(--fill-color);\n",
              "      border-right-color: var(--fill-color);\n",
              "    }\n",
              "    40% {\n",
              "      border-color: transparent;\n",
              "      border-right-color: var(--fill-color);\n",
              "      border-top-color: var(--fill-color);\n",
              "    }\n",
              "    60% {\n",
              "      border-color: transparent;\n",
              "      border-right-color: var(--fill-color);\n",
              "    }\n",
              "    80% {\n",
              "      border-color: transparent;\n",
              "      border-right-color: var(--fill-color);\n",
              "      border-bottom-color: var(--fill-color);\n",
              "    }\n",
              "    90% {\n",
              "      border-color: transparent;\n",
              "      border-bottom-color: var(--fill-color);\n",
              "    }\n",
              "  }\n",
              "</style>\n",
              "\n",
              "  <script>\n",
              "    async function quickchart(key) {\n",
              "      const quickchartButtonEl =\n",
              "        document.querySelector('#' + key + ' button');\n",
              "      quickchartButtonEl.disabled = true;  // To prevent multiple clicks.\n",
              "      quickchartButtonEl.classList.add('colab-df-spinner');\n",
              "      try {\n",
              "        const charts = await google.colab.kernel.invokeFunction(\n",
              "            'suggestCharts', [key], {});\n",
              "      } catch (error) {\n",
              "        console.error('Error during call to suggestCharts:', error);\n",
              "      }\n",
              "      quickchartButtonEl.classList.remove('colab-df-spinner');\n",
              "      quickchartButtonEl.classList.add('colab-df-quickchart-complete');\n",
              "    }\n",
              "    (() => {\n",
              "      let quickchartButtonEl =\n",
              "        document.querySelector('#df-c03e56e1-992e-4fd8-b52a-fb3cb688a193 button');\n",
              "      quickchartButtonEl.style.display =\n",
              "        google.colab.kernel.accessAllowed ? 'block' : 'none';\n",
              "    })();\n",
              "  </script>\n",
              "</div>\n",
              "    </div>\n",
              "  </div>\n"
            ]
          },
          "metadata": {},
          "execution_count": 27
        }
      ]
    },
    {
      "cell_type": "code",
      "source": [
        "cat_cols=list(cat_cols)\n",
        "cat_cols"
      ],
      "metadata": {
        "colab": {
          "base_uri": "https://localhost:8080/"
        },
        "id": "q6dfUhecaJ83",
        "outputId": "eb7fd788-bd59-413d-a223-d80ef215ed09"
      },
      "execution_count": 102,
      "outputs": [
        {
          "output_type": "execute_result",
          "data": {
            "text/plain": [
              "['sales_channel',\n",
              " 'trip_type',\n",
              " 'flight_day',\n",
              " 'route',\n",
              " 'booking_origin',\n",
              " 'num_passenges']"
            ]
          },
          "metadata": {},
          "execution_count": 102
        }
      ]
    },
    {
      "cell_type": "code",
      "source": [
        "cntns_cols=list(cntns_cols)\n",
        "cntns_cols"
      ],
      "metadata": {
        "colab": {
          "base_uri": "https://localhost:8080/"
        },
        "id": "kznb2RuUb_fN",
        "outputId": "83c4ff21-7f09-4625-837f-38fd4d50229d"
      },
      "execution_count": 103,
      "outputs": [
        {
          "output_type": "execute_result",
          "data": {
            "text/plain": [
              "['num_passengers',\n",
              " 'purchase_lead',\n",
              " 'length_of_stay',\n",
              " 'flight_hour',\n",
              " 'wants_extra_baggage',\n",
              " 'wants_preferred_seat',\n",
              " 'wants_in_flight_meals',\n",
              " 'flight_duration',\n",
              " 'booking_complete']"
            ]
          },
          "metadata": {},
          "execution_count": 103
        }
      ]
    },
    {
      "cell_type": "code",
      "source": [
        "cntns_cols[-5:-2]"
      ],
      "metadata": {
        "colab": {
          "base_uri": "https://localhost:8080/"
        },
        "id": "AhOeiW2gerZo",
        "outputId": "91d01224-9841-4049-b166-1ee93eef6735"
      },
      "execution_count": 104,
      "outputs": [
        {
          "output_type": "execute_result",
          "data": {
            "text/plain": [
              "['wants_extra_baggage', 'wants_preferred_seat', 'wants_in_flight_meals']"
            ]
          },
          "metadata": {},
          "execution_count": 104
        }
      ]
    },
    {
      "cell_type": "code",
      "source": [
        "cat_cols.insert(0,'num_passengers')\n",
        "cat_cols.extend(cntns_cols[-5:-2])\n",
        "cntns_cols.remove('num_passengers')\n",
        "cntns_cols.remove('wants_extra_baggage')\n",
        "cntns_cols.remove('wants_preferred_seat')\n",
        "cntns_cols.remove('wants_in_flight_meals')\n",
        "\n",
        "cat_cols"
      ],
      "metadata": {
        "colab": {
          "base_uri": "https://localhost:8080/"
        },
        "id": "dn15pA90caKI",
        "outputId": "5e17347e-fd6f-4eaf-db4e-dca6b9f77d2a"
      },
      "execution_count": 105,
      "outputs": [
        {
          "output_type": "execute_result",
          "data": {
            "text/plain": [
              "['num_passengers',\n",
              " 'sales_channel',\n",
              " 'trip_type',\n",
              " 'flight_day',\n",
              " 'route',\n",
              " 'booking_origin',\n",
              " 'num_passenges',\n",
              " 'wants_extra_baggage',\n",
              " 'wants_preferred_seat',\n",
              " 'wants_in_flight_meals']"
            ]
          },
          "metadata": {},
          "execution_count": 105
        }
      ]
    },
    {
      "cell_type": "code",
      "source": [
        "cntns_cols"
      ],
      "metadata": {
        "colab": {
          "base_uri": "https://localhost:8080/"
        },
        "id": "59RPftAnfOij",
        "outputId": "d64fa6b3-6612-4353-b393-de910b70fa29"
      },
      "execution_count": 106,
      "outputs": [
        {
          "output_type": "execute_result",
          "data": {
            "text/plain": [
              "['purchase_lead',\n",
              " 'length_of_stay',\n",
              " 'flight_hour',\n",
              " 'flight_duration',\n",
              " 'booking_complete']"
            ]
          },
          "metadata": {},
          "execution_count": 106
        }
      ]
    },
    {
      "cell_type": "markdown",
      "source": [
        "## **No. of Passengers**"
      ],
      "metadata": {
        "id": "YVKHj5-2g8Vz"
      }
    },
    {
      "cell_type": "code",
      "source": [
        "data.num_passengers.value_counts()"
      ],
      "metadata": {
        "colab": {
          "base_uri": "https://localhost:8080/"
        },
        "id": "gs83bhDmiEhI",
        "outputId": "9ec4f0ce-edff-4ce4-a32e-950539b58b47"
      },
      "execution_count": 109,
      "outputs": [
        {
          "output_type": "execute_result",
          "data": {
            "text/plain": [
              "1    30879\n",
              "2    12669\n",
              "3     2882\n",
              "4     1767\n",
              "5      544\n",
              "6      281\n",
              "7      107\n",
              "8       88\n",
              "9       64\n",
              "Name: num_passengers, dtype: int64"
            ]
          },
          "metadata": {},
          "execution_count": 109
        }
      ]
    },
    {
      "cell_type": "code",
      "source": [
        "# data['num_passenges']=data['num_passengers'].map({1:'One',2:\"Two\",3:'Three',4:'Four',5:'Five',6:'Six',7:'Seven',8:'Eight',9:'Nine'})\n",
        "data['num_passengers'] = data['num_passengers'].astype(str)"
      ],
      "metadata": {
        "id": "wxeMCvaNrm89"
      },
      "execution_count": 122,
      "outputs": []
    },
    {
      "cell_type": "code",
      "source": [
        "data.num_passengers.dtype"
      ],
      "metadata": {
        "colab": {
          "base_uri": "https://localhost:8080/"
        },
        "id": "pJs_w0aOu-XG",
        "outputId": "06953a61-95d8-474a-a874-66843c6ef3bd"
      },
      "execution_count": 123,
      "outputs": [
        {
          "output_type": "execute_result",
          "data": {
            "text/plain": [
              "dtype('O')"
            ]
          },
          "metadata": {},
          "execution_count": 123
        }
      ]
    },
    {
      "cell_type": "code",
      "source": [
        "plt.figure(figsize=(10,3))\n",
        "plot=sns.countplot(data=data,y='num_passengers',palette='gist_rainbow_r')\n",
        "title=\"Count Plot of No. of Passengers\"\n",
        "plot.set_title(f\"{title}\",fontsize=15,fontweight='bold',y=1.05)\n",
        "plot.bar_label(plot.containers[0])\n",
        "plot.spines[['right','top','bottom']].set_visible(False)                                # Removing the chart junk\n",
        "plot.xaxis.set_visible(False)\n",
        "plt.ylabel('No. of passengers',fontweight='bold',fontsize=10)"
      ],
      "metadata": {
        "colab": {
          "base_uri": "https://localhost:8080/",
          "height": 321
        },
        "id": "boE8BTcgihZG",
        "outputId": "c0a4e509-dc28-4468-acce-d2a12538382f"
      },
      "execution_count": 124,
      "outputs": [
        {
          "output_type": "execute_result",
          "data": {
            "text/plain": [
              "Text(0, 0.5, 'No. of passengers')"
            ]
          },
          "metadata": {},
          "execution_count": 124
        },
        {
          "output_type": "display_data",
          "data": {
            "text/plain": [
              "<Figure size 1000x300 with 1 Axes>"
            ],
            "image/png": "[encoded data removed]"
          },
          "metadata": {}
        }
      ]
    },
    {
      "cell_type": "code",
      "source": [
        "plt.figure(figsize=(15,5))\n",
        "fig=sns.countplot(data=data,x='num_passengers',hue='booking_complete',palette='gist_rainbow_r')\n",
        "\n",
        "for label in fig.containers:\n",
        "  fig.bar_label(label)\n",
        "plt.xlabel('No. of passengers',fontweight='bold')"
      ],
      "metadata": {
        "colab": {
          "base_uri": "https://localhost:8080/",
          "height": 483
        },
        "id": "oWAqkZfSjQVD",
        "outputId": "1d113e06-1e0c-4520-b70f-5953119c7437"
      },
      "execution_count": 125,
      "outputs": [
        {
          "output_type": "execute_result",
          "data": {
            "text/plain": [
              "Text(0.5, 0, 'No. of passengers')"
            ]
          },
          "metadata": {},
          "execution_count": 125
        },
        {
          "output_type": "display_data",
          "data": {
            "text/plain": [
              "<Figure size 1500x500 with 1 Axes>"
            ],
            "image/png": "[encoded data removed]"
          },
          "metadata": {}
        }
      ]
    },
    {
      "cell_type": "code",
      "source": [
        "passengers=pd.pivot_table(data=data,values='booking_complete',index='num_passengers').sort_values(by='booking_complete')\n",
        "passengers['booking_complete']=passengers['booking_complete']*100\n",
        "passengers.style.bar(cmap='inferno',height=70,props=\"width:40em;\")"
      ],
      "metadata": {
        "colab": {
          "base_uri": "https://localhost:8080/",
          "height": 363
        },
        "id": "ruKXHawRoosu",
        "outputId": "53faec92-4db9-4e04-aea0-6f0e423a0b46"
      },
      "execution_count": 126,
      "outputs": [
        {
          "output_type": "execute_result",
          "data": {
            "text/plain": [
              "<pandas.io.formats.style.Styler at 0x7fab7227b220>"
            ],
            "text/html": [
              "<style type=\"text/css\">\n",
              "#T_483be_row0_col0 {\n",
              "  width: 40em;\n",
              "  background: linear-gradient(90deg, #ee6a24 67.1%, transparent 67.1%) no-repeat center;\n",
              "  background-size: 100% 70.0%;\n",
              "}\n",
              "#T_483be_row1_col0 {\n",
              "  width: 40em;\n",
              "  background: linear-gradient(90deg, #f37819 70.2%, transparent 70.2%) no-repeat center;\n",
              "  background-size: 100% 70.0%;\n",
              "}\n",
              "#T_483be_row2_col0 {\n",
              "  width: 40em;\n",
              "  background: linear-gradient(90deg, #f8870e 73.6%, transparent 73.6%) no-repeat center;\n",
              "  background-size: 100% 70.0%;\n",
              "}\n",
              "#T_483be_row3_col0 {\n",
              "  width: 40em;\n",
              "  background: linear-gradient(90deg, #fa9207 76.1%, transparent 76.1%) no-repeat center;\n",
              "  background-size: 100% 70.0%;\n",
              "}\n",
              "#T_483be_row4_col0 {\n",
              "  width: 40em;\n",
              "  background: linear-gradient(90deg, #fc9f07 78.8%, transparent 78.8%) no-repeat center;\n",
              "  background-size: 100% 70.0%;\n",
              "}\n",
              "#T_483be_row5_col0 {\n",
              "  width: 40em;\n",
              "  background: linear-gradient(90deg, #fcb418 83.0%, transparent 83.0%) no-repeat center;\n",
              "  background-size: 100% 70.0%;\n",
              "}\n",
              "#T_483be_row6_col0 {\n",
              "  width: 40em;\n",
              "  background: linear-gradient(90deg, #f3e55d 92.9%, transparent 92.9%) no-repeat center;\n",
              "  background-size: 100% 70.0%;\n",
              "}\n",
              "#T_483be_row7_col0 {\n",
              "  width: 40em;\n",
              "  background: linear-gradient(90deg, #f2f27d 95.9%, transparent 95.9%) no-repeat center;\n",
              "  background-size: 100% 70.0%;\n",
              "}\n",
              "#T_483be_row8_col0 {\n",
              "  width: 40em;\n",
              "  background: linear-gradient(90deg, #fcffa4 100.0%, transparent 100.0%) no-repeat center;\n",
              "  background-size: 100% 70.0%;\n",
              "}\n",
              "</style>\n",
              "<table id=\"T_483be\" class=\"dataframe\">\n",
              "  <thead>\n",
              "    <tr>\n",
              "      <th class=\"blank level0\" >&nbsp;</th>\n",
              "      <th id=\"T_483be_level0_col0\" class=\"col_heading level0 col0\" >booking_complete</th>\n",
              "    </tr>\n",
              "    <tr>\n",
              "      <th class=\"index_name level0\" >num_passengers</th>\n",
              "      <th class=\"blank col0\" >&nbsp;</th>\n",
              "    </tr>\n",
              "  </thead>\n",
              "  <tbody>\n",
              "    <tr>\n",
              "      <th id=\"T_483be_level0_row0\" class=\"row_heading level0 row0\" >8</th>\n",
              "      <td id=\"T_483be_row0_col0\" class=\"data row0 col0\" >13.636364</td>\n",
              "    </tr>\n",
              "    <tr>\n",
              "      <th id=\"T_483be_level0_row1\" class=\"row_heading level0 row1\" >1</th>\n",
              "      <td id=\"T_483be_row1_col0\" class=\"data row1 col0\" >14.258881</td>\n",
              "    </tr>\n",
              "    <tr>\n",
              "      <th id=\"T_483be_level0_row2\" class=\"row_heading level0 row2\" >7</th>\n",
              "      <td id=\"T_483be_row2_col0\" class=\"data row2 col0\" >14.953271</td>\n",
              "    </tr>\n",
              "    <tr>\n",
              "      <th id=\"T_483be_level0_row3\" class=\"row_heading level0 row3\" >4</th>\n",
              "      <td id=\"T_483be_row3_col0\" class=\"data row3 col0\" >15.449915</td>\n",
              "    </tr>\n",
              "    <tr>\n",
              "      <th id=\"T_483be_level0_row4\" class=\"row_heading level0 row4\" >2</th>\n",
              "      <td id=\"T_483be_row4_col0\" class=\"data row4 col0\" >16.015471</td>\n",
              "    </tr>\n",
              "    <tr>\n",
              "      <th id=\"T_483be_level0_row5\" class=\"row_heading level0 row5\" >3</th>\n",
              "      <td id=\"T_483be_row5_col0\" class=\"data row5 col0\" >16.863289</td>\n",
              "    </tr>\n",
              "    <tr>\n",
              "      <th id=\"T_483be_level0_row6\" class=\"row_heading level0 row6\" >6</th>\n",
              "      <td id=\"T_483be_row6_col0\" class=\"data row6 col0\" >18.861210</td>\n",
              "    </tr>\n",
              "    <tr>\n",
              "      <th id=\"T_483be_level0_row7\" class=\"row_heading level0 row7\" >5</th>\n",
              "      <td id=\"T_483be_row7_col0\" class=\"data row7 col0\" >19.485294</td>\n",
              "    </tr>\n",
              "    <tr>\n",
              "      <th id=\"T_483be_level0_row8\" class=\"row_heading level0 row8\" >9</th>\n",
              "      <td id=\"T_483be_row8_col0\" class=\"data row8 col0\" >20.312500</td>\n",
              "    </tr>\n",
              "  </tbody>\n",
              "</table>\n"
            ]
          },
          "metadata": {},
          "execution_count": 126
        }
      ]
    },
    {
      "cell_type": "code",
      "source": [
        "passengers.index"
      ],
      "metadata": {
        "colab": {
          "base_uri": "https://localhost:8080/"
        },
        "id": "oGJTM5vaqhhv",
        "outputId": "95a5edc3-a26a-41e4-b013-84721fa0ada5"
      },
      "execution_count": 127,
      "outputs": [
        {
          "output_type": "execute_result",
          "data": {
            "text/plain": [
              "Index(['8', '1', '7', '4', '2', '3', '6', '5', '9'], dtype='object', name='num_passengers')"
            ]
          },
          "metadata": {},
          "execution_count": 127
        }
      ]
    },
    {
      "cell_type": "code",
      "source": [
        "fig,axes=plt.subplots(1,2,figsize=(17,5))\n",
        "plt.suptitle('Booking Completion Percentage by Number of Passengers',fontweight='bold',fontsize=20)\n",
        "\n",
        "# Bar chart\n",
        "axs=sns.barplot(data=passengers,y=passengers.index,x=passengers['booking_complete'],ax=axes[0],palette='inferno_r')\n",
        "axs.bar_label(axs.containers[0],fmt='%.2f%%',fontweight='bold',padding=5)       # Setting bar labels with percentage of conversion\n",
        "axes[0].spines[['right','top','bottom',]].set_visible(False)              # Removing the chart junk\n",
        "axes[0].xaxis.set_visible(False)                                                # Hiding the x-axis\n",
        "axs.set_ylabel(\"No. of passengers\",fontweight='bold',fontsize=13)\n",
        "\n",
        "# Pie chart\n",
        "# passengers.plot(kind='pie',subplots=True,ax=axes[1],cmap=\"Paired\")\n",
        "passengers['booking_complete'].plot.pie(autopct='%1.1f%%', startangle=90, legend=False,cmap='inferno_r',wedgeprops=dict(width=0.3))\n",
        "\n",
        "plt.ylabel(\"\")                                                                  # Removing the ylabel on pie chart\n",
        "\n",
        "# Setting the legend location\n",
        "plt.legend(loc='upper right',bbox_to_anchor=(1.7,0.9),title='Percentage')\n"
      ],
      "metadata": {
        "colab": {
          "base_uri": "https://localhost:8080/",
          "height": 454
        },
        "id": "gG_6nRUypTAh",
        "outputId": "c3345754-6e9f-4ec3-8c69-3f440544a3aa"
      },
      "execution_count": 144,
      "outputs": [
        {
          "output_type": "execute_result",
          "data": {
            "text/plain": [
              "<matplotlib.legend.Legend at 0x7fab713abac0>"
            ]
          },
          "metadata": {},
          "execution_count": 144
        },
        {
          "output_type": "display_data",
          "data": {
            "text/plain": [
              "<Figure size 1700x500 with 2 Axes>"
            ],
            "image/png": "[encoded data removed]"
          },
          "metadata": {}
        }
      ]
    }
  ]
}